{
  "cells": [
    {
      "cell_type": "markdown",
      "metadata": {
        "id": "k475s1q5kZA4"
      },
      "source": [
        "##  <font style=\"color:black\">**Curso de Analytics de Imagens e Vídeos**</font>\n",
        "\n",
        "Aula 09 - Classificação de imagens usando CNN"
      ]
    },
    {
      "cell_type": "markdown",
      "metadata": {
        "id": "8DysQztpSn6a"
      },
      "source": [
        "## **Exemplo prático**\n",
        "\n",
        "### Construção e treinamento de CNN para a classificação das imagens"
      ]
    },
    {
      "cell_type": "code",
      "execution_count": 1,
      "metadata": {
        "id": "TU9yXx0wjNt5"
      },
      "outputs": [],
      "source": [
        "# Os imports necessários\n",
        "import torch\n",
        "import torch.nn as nn\n",
        "import torch.optim as optim\n",
        "from torch.optim import lr_scheduler\n",
        "import numpy as np\n",
        "import torchvision\n",
        "from torchvision import datasets, models, transforms\n",
        "import matplotlib.pyplot as plt\n",
        "import time\n",
        "import os\n",
        "import copy"
      ]
    },
    {
      "cell_type": "code",
      "execution_count": 2,
      "metadata": {},
      "outputs": [],
      "source": [
        "# baixando base de dados de placas de transito\n",
        "import urllib.request\n",
        "import os.path\n",
        "if not os.path.exists(\"GTSRB_Final_Training_Images.zip\"):\n",
        "    url = (\"https://sid.erda.dk/public/archives/\"\n",
        "    + \"daaeac0d7ce1152aea9b61d9f1e19370/\"\n",
        "    + \"GTSRB_Final_Training_Images.zip\")\n",
        "    filename = \"./GTSRB_Final_Training_Images.zip\"\n",
        "    urllib.request.urlretrieve(url, filename)"
      ]
    },
    {
      "cell_type": "code",
      "execution_count": null,
      "metadata": {
        "colab": {
          "base_uri": "https://localhost:8080/"
        },
        "id": "iNWS91Yo_LSk",
        "outputId": "b87c48e3-b4a4-498b-86c8-f323c472cb0a"
      },
      "outputs": [
        {
          "name": "stdout",
          "output_type": "stream",
          "text": [
            "(30, 29, 3)\n"
          ]
        }
      ],
      "source": [
        "import zipfile\n",
        "\n",
        "# Caminho do arquivo zip\n",
        "zip_path = 'GTSRB_Final_Training_Images.zip'\n",
        "\n",
        "# Pasta onde os arquivos serão extraídos\n",
        "extract_to = 'GTSRB_Final_Training_Images/'\n",
        "\n",
        "# Abre e extrai todos os arquivos\n",
        "with zipfile.ZipFile(zip_path, 'r') as zip_ref:\n",
        "    zip_ref.extractall(extract_to)\n",
        "\n",
        "print(f\"Arquivos extraídos para: {extract_to}\")"
      ]
    },
    {
      "cell_type": "code",
      "execution_count": 5,
      "metadata": {},
      "outputs": [],
      "source": [
        "from torchvision import datasets, transforms\n",
        "from torch.utils.data import DataLoader, random_split\n",
        "\n",
        "data_transforms = {\n",
        "    # dados de treinamento\n",
        "    'train': transforms.Compose([\n",
        "        transforms.Resize((224,224)), # Pré-processamento para formatar as imagens em tamanho (224x224)\n",
        "        #transforms.RandomHorizontalFlip(), # Rotaciona a imagem de baixo para cima\n",
        "        transforms.ToTensor(), # Transforma no tipo de dado do pytorch\n",
        "        #transforms.Normalize([0.485, 0.456, 0.406], [0.229, 0.224, 0.225]) # Normalização contém a média e o desvio padrão para cada um dos canais RGB\n",
        "    ]),\n",
        "\n",
        "    # Podemos fazer cortes diferentes, mas a imagem final tem que ser 224x224\n",
        "    # dados de validação\n",
        "    'val': transforms.Compose([\n",
        "        transforms.Resize(256), # Pré-processamento para formatar as imagens em tamanho (256x256)\n",
        "        transforms.CenterCrop(224), # Corte na imagem para (224x224)\n",
        "        transforms.ToTensor(),  # Transforma no tipo de dado do pytorch\n",
        "        #transforms.Normalize([0.485, 0.456, 0.406], [0.229, 0.224, 0.225]) # Normalização contém a média e o desvio padrão para cada um dos canais RGB\n",
        "    ]),\n",
        "}\n",
        "\n",
        "# Carrega dataset completo\n",
        "dataset = datasets.ImageFolder(root='GTSRB_Final_Training_Images/GTSRB/Final_Training/Images', transform=data_transforms['train'])\n",
        "\n",
        "# Define proporção treino/teste\n",
        "train_size = int(0.8 * len(dataset))  # 80% treino\n",
        "test_size = len(dataset) - train_size\n",
        "\n",
        "# Divide de forma aleatória\n",
        "train_dataset, test_dataset = random_split(dataset, [train_size, test_size])\n",
        "\n",
        "# Cria dataloaders\n",
        "train_loader = DataLoader(train_dataset.dataset, batch_size=8, shuffle=True)\n",
        "test_loader = DataLoader(test_dataset.dataset, batch_size=8, shuffle=False)\n"
      ]
    },
    {
      "cell_type": "code",
      "execution_count": 6,
      "metadata": {},
      "outputs": [],
      "source": [
        "dataset_sizes = { 'train': train_size, 'val': test_size}\n",
        "\n",
        "dataloaders = { 'train': train_loader, 'val': test_loader}"
      ]
    },
    {
      "cell_type": "code",
      "execution_count": 8,
      "metadata": {},
      "outputs": [
        {
          "name": "stdout",
          "output_type": "stream",
          "text": [
            "Dataset sizes: {'train': 31367, 'val': 7842}\n",
            "class names: ['00000', '00001', '00002', '00003', '00004', '00005', '00006', '00007', '00008', '00009', '00010', '00011', '00012', '00013', '00014', '00015', '00016', '00017', '00018', '00019', '00020', '00021', '00022', '00023', '00024', '00025', '00026', '00027', '00028', '00029', '00030', '00031', '00032', '00033', '00034', '00035', '00036', '00037', '00038', '00039', '00040', '00041', '00042']\n",
            "cuda: cuda:0\n"
          ]
        }
      ],
      "source": [
        "\n",
        "# Utiliza GPU ou CPU, verificar no colab (Ambiente de execução -> Alterar o tipo de ambiente de execução)\n",
        "device = torch.device(\"cuda:0\" if torch.cuda.is_available() else \"cpu\")\n",
        "\n",
        "print(f'Dataset sizes: {dataset_sizes}')\n",
        "print(f'class names: {dataset.classes}')\n",
        "print(f'cuda: {device}')"
      ]
    },
    {
      "cell_type": "code",
      "execution_count": 9,
      "metadata": {
        "id": "EXhzXmvNjk_p"
      },
      "outputs": [],
      "source": [
        "# Funções auxiliares para a classificação das imagens usando CNN\n",
        "\n",
        "# Função auxiliar para impimir um batch de imagens\n",
        "def imshow(inp, title=None):\n",
        "    \"\"\"Imshow for Tensor.\"\"\"\n",
        "\n",
        "    # Reorganizar o dado para o formato adequado do matplotlib\n",
        "    inp = inp.numpy().transpose((1, 2, 0))\n",
        "    mean = np.array([0.485, 0.456, 0.406])\n",
        "    std = np.array([0.229, 0.224, 0.225])\n",
        "    inp = std * inp + mean\n",
        "    inp = np.clip(inp, 0, 1) # limita os dados da imagem entre [0,1]\n",
        "    # plota a imagem\n",
        "    plt.imshow(inp)\n",
        "    if title is not None:\n",
        "        plt.title(title)\n",
        "    plt.pause(0.001)  # pause a bit so that plots are updated\n",
        "\n",
        "# Apresenta a dimensão de saída da imagem após a convolução (qual o tamanho do feature map?)\n",
        "def out_conv2d(dim_input, kernel_size, padding=0, dilation=1, stride=1):\n",
        "    dim_output = ((dim_input + 2 * padding - dilation * (kernel_size-1) - 1)/stride) + 1\n",
        "    return dim_output"
      ]
    },
    {
      "cell_type": "code",
      "execution_count": null,
      "metadata": {
        "colab": {
          "base_uri": "https://localhost:8080/",
          "height": 145
        },
        "id": "XBc4D36avZ19",
        "outputId": "f661beec-8879-4220-bf0d-0b6a2b037f4a"
      },
      "outputs": [],
      "source": [
        "\n"
      ]
    },
    {
      "cell_type": "code",
      "execution_count": 10,
      "metadata": {
        "id": "fI96qKoqjqnZ"
      },
      "outputs": [],
      "source": [
        "# função de treino\n",
        "def train_model(model, criterion, optimizer, num_epochs=10):\n",
        "\n",
        "    # Calcula o tempo do treinamento\n",
        "    since = time.time()\n",
        "\n",
        "    # Faz uma cópia do modelo, e a medida que vai melhorando o modelo; atualiza a CNN com os pesos ajustados\n",
        "    best_model_wts = copy.deepcopy(model.state_dict())\n",
        "    best_acc = 0.0\n",
        "\n",
        "    # iterar até a quantidade finita de épocas\n",
        "    for epoch in range(num_epochs):\n",
        "        print('Epoch {}/{}'.format(epoch, num_epochs - 1))\n",
        "        print('-' * 10)\n",
        "\n",
        "        # Each epoch has a training and validation phase\n",
        "        for phase in ['train', 'val']:\n",
        "            if phase == 'train':\n",
        "                model.train()  # Set model to training mode\n",
        "            else:\n",
        "                model.eval()   # Set model to evaluate mode\n",
        "\n",
        "            # calular o erro da época\n",
        "            running_loss = 0.0\n",
        "\n",
        "            # calcular a acurácia\n",
        "            running_corrects = 0\n",
        "\n",
        "            # Iterate over data.\n",
        "            #for inputs, labels in dataloaders[phase]:\n",
        "            \n",
        "            for inputs, labels in dataloaders[phase]:\n",
        "                \n",
        "                inputs = inputs.to(device)\n",
        "                labels = labels.to(device)\n",
        "\n",
        "                # zera o parâmetro do gradiente para não obter os gradientes das épocas passadas\n",
        "                optimizer.zero_grad()\n",
        "\n",
        "                # forward\n",
        "                # track history if only in train\n",
        "                with torch.set_grad_enabled(phase == 'train'):\n",
        "                    outputs = model(inputs) # passa os dados de treino para o modelo\n",
        "                    _, preds = torch.max(outputs, 1) # o resultado da predição\n",
        "                    loss = criterion(outputs, labels) # o cálculo do erro\n",
        "\n",
        "                    # backward + optimize only if in training phase\n",
        "                    if phase == 'train':\n",
        "                        loss.backward() # calcula a retropropagação do erro\n",
        "                        optimizer.step() # atualiza os pesos da CNN com base na retropropagação do erro\n",
        "\n",
        "                # statistics\n",
        "                running_loss += loss.item() * inputs.size(0) # calcula o erro das amostras\n",
        "                running_corrects += torch.sum(preds == labels.data) # calcula a acurácia das amostras\n",
        "\n",
        "            epoch_loss = running_loss / dataset_sizes[phase] # calcula o erro geral da época atual\n",
        "            epoch_acc = running_corrects.double() / dataset_sizes[phase] # calcula a acurácia geral da época atual\n",
        "\n",
        "            # Mostra a fase, o erro, e acurácia da respectiva fase (treinamento ou validação)\n",
        "            print('{} Loss: {:.4f} Acc: {:.4f}'.format(\n",
        "                phase, epoch_loss, epoch_acc))\n",
        "\n",
        "            # Verifica se a acurácia atual é melhor do que a acurácia que está salva.\n",
        "            # Se for melhor, então atualiza o modelo e os pesos da CNN\n",
        "            if phase == 'val' and epoch_acc > best_acc:\n",
        "                best_acc = epoch_acc\n",
        "                best_model_wts = copy.deepcopy(model.state_dict())\n",
        "\n",
        "        print()\n",
        "\n",
        "    # verifica o tempo final do treinamento\n",
        "    time_elapsed = time.time() - since\n",
        "    print('Training complete in {:.0f}m {:.0f}s'.format(\n",
        "        time_elapsed // 60, time_elapsed % 60))\n",
        "    print('Best val Acc: {:4f}'.format(best_acc))\n",
        "\n",
        "    # Ler o melhor modelo da fase de treinamento\n",
        "    model.load_state_dict(best_model_wts)\n",
        "    # retorna o melhor modelo de treino\n",
        "    return model"
      ]
    },
    {
      "cell_type": "code",
      "execution_count": 11,
      "metadata": {},
      "outputs": [],
      "source": [
        "class_names = {\n",
        "    0: \"Speed limit (20km/h)\",\n",
        "    1: \"Speed limit (30km/h)\",\n",
        "    2: \"Speed limit (50km/h)\",\n",
        "    3: \"Speed limit (60km/h)\",\n",
        "    4: \"Speed limit (70km/h)\",\n",
        "    5: \"Speed limit (80km/h)\",\n",
        "    6: \"End of speed limit (80km/h)\",\n",
        "    7: \"Speed limit (100km/h)\",\n",
        "    8: \"Speed limit (120km/h)\",\n",
        "    9: \"No passing\",\n",
        "    10: \"No passing for vehicles over 3.5 metric tons\",\n",
        "    11: \"Right-of-way at the next intersection\",\n",
        "    12: \"Priority road\",\n",
        "    13: \"Yield\",\n",
        "    14: \"Stop\",\n",
        "    15: \"No vehicles\",\n",
        "    16: \"Vehicles over 3.5 metric tons prohibited\",\n",
        "    17: \"No entry\",\n",
        "    18: \"General caution\",\n",
        "    19: \"Dangerous curve to the left\",\n",
        "    20: \"Dangerous curve to the right\",\n",
        "    21: \"Double curve\",\n",
        "    22: \"Bumpy road\",\n",
        "    23: \"Slippery road\",\n",
        "    24: \"Road narrows on the right\",\n",
        "    25: \"Road work\",\n",
        "    26: \"Traffic signals\",\n",
        "    27: \"Pedestrians\",\n",
        "    28: \"Children crossing\",\n",
        "    29: \"Bicycles crossing\",\n",
        "    30: \"Beware of ice/snow\",\n",
        "    31: \"Wild animals crossing\",\n",
        "    32: \"End of all speed and passing limits\",\n",
        "    33: \"Turn right ahead\",\n",
        "    34: \"Turn left ahead\",\n",
        "    35: \"Ahead only\",\n",
        "    36: \"Go straight or right\",\n",
        "    37: \"Go straight or left\",\n",
        "    38: \"Keep right\",\n",
        "    39: \"Keep left\",\n",
        "    40: \"Roundabout mandatory\",\n",
        "    41: \"End of no passing\",\n",
        "    42: \"End of no passing by vehicles over 3.5 metric tons\"\n",
        "}\n"
      ]
    },
    {
      "cell_type": "code",
      "execution_count": 29,
      "metadata": {
        "id": "JEvaqHGtnyBv"
      },
      "outputs": [],
      "source": [
        "import random\n",
        "import matplotlib.pyplot as plt\n",
        "import torch\n",
        "\n",
        "def visualize_model(model, num_images=6):\n",
        "    # Salva se o modelo estava em treino ou eval\n",
        "    was_training = model.training\n",
        "    model.eval()\n",
        "    \n",
        "    fig = plt.figure()\n",
        "    images_so_far = 0\n",
        "\n",
        "    # Sorteia índices aleatórios do dataset de validação\n",
        "    val_dataset = dataloaders['val'].dataset\n",
        "    indices = random.sample(range(len(val_dataset)), num_images)\n",
        "\n",
        "    with torch.no_grad():\n",
        "        for idx in indices:\n",
        "            # Pega uma imagem e label aleatórios\n",
        "            img, label = val_dataset[idx]\n",
        "\n",
        "            # Prepara entrada para o modelo (adiciona dimensão do batch)\n",
        "            inputs = img.unsqueeze(0).to(device)\n",
        "            label = torch.tensor(label).to(device)\n",
        "\n",
        "            # Passa pelo modelo\n",
        "            outputs = model(inputs)\n",
        "            _, pred = torch.max(outputs, 1)\n",
        "\n",
        "            # Plota imagem com predição e rótulo real\n",
        "            images_so_far += 1\n",
        "            ax = plt.subplot(num_images//2, 2, images_so_far)\n",
        "            ax.axis(\"off\")\n",
        "            ax.set_title(f\"pred: {class_names[pred.item()]}\\ntrue: {class_names[label.item()]}\")\n",
        "            imshow(img)\n",
        "\n",
        "            if images_so_far == num_images:\n",
        "                break\n",
        "\n",
        "    # Res\n"
      ]
    },
    {
      "cell_type": "code",
      "execution_count": 13,
      "metadata": {
        "colab": {
          "base_uri": "https://localhost:8080/"
        },
        "id": "AddtZjenrm6I",
        "outputId": "71dfa934-a824-4f34-9b39-05169eeab916"
      },
      "outputs": [
        {
          "data": {
            "text/plain": [
              "109.0"
            ]
          },
          "execution_count": 13,
          "metadata": {},
          "output_type": "execute_result"
        }
      ],
      "source": [
        "# testando as saidas da camadas conv2d\n",
        "# Use esta opção para clacular corretamente as dimensões\n",
        "\n",
        "# Insira a dimensão de entrada (111x111) e o tamanho do filtro (3x3)\n",
        "# Gera como resultado o tamanho do feature map\n",
        "out_conv2d(111, 3)"
      ]
    },
    {
      "cell_type": "code",
      "execution_count": 14,
      "metadata": {
        "id": "I2IF2WSWn1AK"
      },
      "outputs": [],
      "source": [
        "# Criando uma rede convolucional (topologia da CNN)\n",
        "class classificador(nn.Module):\n",
        "\n",
        "  def __init__(self):\n",
        "    super().__init__()\n",
        "\n",
        "    # Criação das camadas convolucionais\n",
        "    self.conv1 = nn.Conv2d(in_channels=3, out_channels=64, kernel_size=(3,3)) # saida 222x222 (no pooling cai pela metade -> 111x111) que vai gerar 64 feature maps. Definimos esses parâmetros para a nossa CNN, 64 feature maps e filtro/kernel 3x3\n",
        "    self.conv2 = nn.Conv2d(in_channels=64, out_channels=128, kernel_size=(3, 3)) # saida 109x109 (no pooling cai pela metade -> 54x54) que vai gerar 128 feature maps. O kernel eh definido pela própria CNN, mas podemos acessar os valores do kernel criado pela CNN\n",
        "\n",
        "    # Criação da função relu\n",
        "    self.activation = nn.ReLU()\n",
        "\n",
        "    # Criação do pooling\n",
        "    self.pool = nn.MaxPool2d(kernel_size = (2,2))\n",
        "\n",
        "    # Criação do flatten para vetorizar a imagem ao final das camadas totalmente conectadas\n",
        "    self.flatten = nn.Flatten() # 54*54 * 128 channels\n",
        "\n",
        "    # Camadas lineares da rede neural (os neurônios totalmente conectados)\n",
        "    self.linear1 = nn.Linear(in_features=128 * 54*54, out_features=128)\n",
        "    self.linear2 = nn.Linear(128, 64)\n",
        "    self.output = nn.Linear(64, 43) # gera para as duas classes\n",
        "\n",
        "    # Dropout para diminuir overfitting (desativa 20% dos neurônios de uma camada oculta)\n",
        "    self.dropout = nn.Dropout(p = 0.2)\n",
        "\n",
        "  # Fluxo da passagem da imagem na rede\n",
        "  def forward(self, X):\n",
        "\n",
        "    # X = Imagem de entrada 224x224\n",
        "    # Ao passar a imagem de entrada para a primeira convolução 3x3 a saída eh 222x222\n",
        "    # Ao passar o pooling na imagem 222x222, então a imagem cai para 111x111\n",
        "    X = self.pool(self.activation(self.conv1(X)))\n",
        "\n",
        "    # X = Feature map 111x111\n",
        "    # Ao passar o feature map para a segunda convolução 3x3 a saída eh 109x109\n",
        "    # Ao passar o pooling na imagem 109x109, então a imagem cai para 54x54\n",
        "    X = self.pool(self.activation(self.conv2(X)))\n",
        "\n",
        "    # 54x54 um único vetor de features\n",
        "    X = self.flatten(X)\n",
        "\n",
        "    # desativa 20% dos neurônios da primeira camada oculta\n",
        "    X = self.dropout(self.activation(self.linear1(X)))\n",
        "\n",
        "    # desativa 20% dos neurônios da segunda camada oculta\n",
        "    X = self.dropout(self.activation(self.linear2(X)))\n",
        "\n",
        "    # passar o dado pela camada de saída\n",
        "    X = self.output(X)\n",
        "\n",
        "    # retorna o vetor de ativação do neurônio (valor ponto flutuante, indica a intensidade de ativação do neurônio)\n",
        "    return X"
      ]
    },
    {
      "cell_type": "code",
      "execution_count": 15,
      "metadata": {
        "colab": {
          "base_uri": "https://localhost:8080/"
        },
        "id": "9pT1L8SaoT9Z",
        "outputId": "77aeabdb-fc6b-44a0-92ef-817f294cdbc5"
      },
      "outputs": [
        {
          "name": "stdout",
          "output_type": "stream",
          "text": [
            "classificador(\n",
            "  (conv1): Conv2d(3, 64, kernel_size=(3, 3), stride=(1, 1))\n",
            "  (conv2): Conv2d(64, 128, kernel_size=(3, 3), stride=(1, 1))\n",
            "  (activation): ReLU()\n",
            "  (pool): MaxPool2d(kernel_size=(2, 2), stride=(2, 2), padding=0, dilation=1, ceil_mode=False)\n",
            "  (flatten): Flatten(start_dim=1, end_dim=-1)\n",
            "  (linear1): Linear(in_features=373248, out_features=128, bias=True)\n",
            "  (linear2): Linear(in_features=128, out_features=64, bias=True)\n",
            "  (output): Linear(in_features=64, out_features=43, bias=True)\n",
            "  (dropout): Dropout(p=0.2, inplace=False)\n",
            ")\n"
          ]
        }
      ],
      "source": [
        "# Criando objeto da estrutura da rede (topologia da rede)\n",
        "net = classificador()\n",
        "print(net)"
      ]
    },
    {
      "cell_type": "code",
      "execution_count": 16,
      "metadata": {
        "colab": {
          "base_uri": "https://localhost:8080/"
        },
        "id": "Unk84Xvjsnt-",
        "outputId": "04450f66-9fb7-4e14-aad8-8c2d148fffd3"
      },
      "outputs": [
        {
          "data": {
            "text/plain": [
              "Parameter containing:\n",
              "tensor([[[[-0.1731, -0.1760,  0.0648],\n",
              "          [ 0.0428, -0.1741,  0.1310],\n",
              "          [-0.0195,  0.1799,  0.1757]],\n",
              "\n",
              "         [[ 0.1765,  0.0177,  0.1854],\n",
              "          [-0.1476, -0.0376, -0.1665],\n",
              "          [-0.0515,  0.0880, -0.1345]],\n",
              "\n",
              "         [[-0.1025, -0.1386, -0.0427],\n",
              "          [-0.1784,  0.1267,  0.1207],\n",
              "          [-0.1169, -0.0809, -0.0485]]],\n",
              "\n",
              "\n",
              "        [[[-0.1168,  0.0576,  0.0372],\n",
              "          [-0.0368, -0.1826,  0.0895],\n",
              "          [-0.0507, -0.0540, -0.0987]],\n",
              "\n",
              "         [[-0.1897,  0.0145, -0.0607],\n",
              "          [ 0.1694, -0.1312,  0.0758],\n",
              "          [ 0.0315,  0.1477, -0.0460]],\n",
              "\n",
              "         [[ 0.1060, -0.0158, -0.0572],\n",
              "          [-0.1366,  0.0650,  0.1585],\n",
              "          [ 0.0898, -0.0467,  0.1292]]],\n",
              "\n",
              "\n",
              "        [[[-0.0445,  0.1259,  0.1707],\n",
              "          [-0.0543,  0.1422,  0.0847],\n",
              "          [ 0.1669,  0.1189,  0.0271]],\n",
              "\n",
              "         [[ 0.1616,  0.0059, -0.1201],\n",
              "          [-0.1552,  0.1587,  0.1006],\n",
              "          [ 0.0251, -0.0358, -0.0536]],\n",
              "\n",
              "         [[-0.1770,  0.1776, -0.1001],\n",
              "          [-0.0414,  0.0986, -0.1326],\n",
              "          [-0.1166, -0.0586, -0.1615]]],\n",
              "\n",
              "\n",
              "        ...,\n",
              "\n",
              "\n",
              "        [[[-0.1622, -0.0676,  0.0764],\n",
              "          [-0.0358,  0.1455,  0.0575],\n",
              "          [-0.0255, -0.1662, -0.0732]],\n",
              "\n",
              "         [[-0.0062, -0.1900,  0.0606],\n",
              "          [-0.1868,  0.1119, -0.1746],\n",
              "          [ 0.0465,  0.1565,  0.0847]],\n",
              "\n",
              "         [[ 0.0181, -0.0232,  0.1735],\n",
              "          [-0.0651, -0.0406,  0.0161],\n",
              "          [-0.1437,  0.1394, -0.1261]]],\n",
              "\n",
              "\n",
              "        [[[-0.1017,  0.0487,  0.0005],\n",
              "          [ 0.0555,  0.0112, -0.1872],\n",
              "          [-0.1873,  0.1602,  0.0193]],\n",
              "\n",
              "         [[-0.1284,  0.1848,  0.0994],\n",
              "          [ 0.1622, -0.1854,  0.0012],\n",
              "          [ 0.0710, -0.1534, -0.1129]],\n",
              "\n",
              "         [[ 0.1105,  0.0493, -0.1397],\n",
              "          [ 0.1647,  0.0468, -0.1357],\n",
              "          [-0.1343,  0.1506, -0.1684]]],\n",
              "\n",
              "\n",
              "        [[[-0.0060,  0.0151,  0.1095],\n",
              "          [ 0.0049, -0.1011, -0.0197],\n",
              "          [-0.0228, -0.0919, -0.0413]],\n",
              "\n",
              "         [[-0.1437,  0.1207, -0.1257],\n",
              "          [ 0.1786, -0.0961, -0.1848],\n",
              "          [ 0.0676,  0.0695,  0.1536]],\n",
              "\n",
              "         [[ 0.0389,  0.0513, -0.0579],\n",
              "          [-0.1347, -0.0586,  0.0419],\n",
              "          [-0.0785, -0.1465,  0.0624]]]], requires_grad=True)"
            ]
          },
          "execution_count": 16,
          "metadata": {},
          "output_type": "execute_result"
        }
      ],
      "source": [
        "# Acesso aos pesos da camada especificada pelo nome (primeira camada convolucional)\n",
        "net.conv1.weight"
      ]
    },
    {
      "cell_type": "code",
      "execution_count": 17,
      "metadata": {
        "colab": {
          "base_uri": "https://localhost:8080/"
        },
        "id": "xrJHqeq-sv8a",
        "outputId": "3d3e9c4b-1730-41eb-b96e-0c9167f1203e"
      },
      "outputs": [
        {
          "data": {
            "text/plain": [
              "Parameter containing:\n",
              "tensor([ 0.1319, -0.1417, -0.1505, -0.1708,  0.1767,  0.1213,  0.1137, -0.1246,\n",
              "        -0.1529, -0.1021, -0.1065, -0.1233,  0.0102,  0.1129, -0.0461,  0.1667,\n",
              "         0.1494,  0.1206, -0.0155, -0.0359, -0.1792,  0.0359,  0.1251, -0.0721,\n",
              "         0.0448,  0.1779, -0.0540,  0.0353,  0.0358, -0.1787, -0.1375,  0.1777,\n",
              "        -0.1148, -0.0563, -0.0005,  0.0096,  0.1492,  0.0969,  0.0458,  0.0771,\n",
              "        -0.0922, -0.0203, -0.0442,  0.0040, -0.1195, -0.0121,  0.1863, -0.1806,\n",
              "         0.0531,  0.0146, -0.1210,  0.1756,  0.1918, -0.0275, -0.1920, -0.1802,\n",
              "         0.1700,  0.0999, -0.0590, -0.0002,  0.1286,  0.0677, -0.0626, -0.0077],\n",
              "       requires_grad=True)"
            ]
          },
          "execution_count": 17,
          "metadata": {},
          "output_type": "execute_result"
        }
      ],
      "source": [
        "# Acesso ao bis da camada especificada pelo nome (primeira camada convolucional)\n",
        "net.conv1.bias"
      ]
    },
    {
      "cell_type": "code",
      "execution_count": 18,
      "metadata": {
        "id": "S-yF5bawoUUJ"
      },
      "outputs": [],
      "source": [
        "# Definindo os parâmetros importantes do treinamento\n",
        "\n",
        "# Função de custo e função de otimização dos parâmetros\n",
        "criterion = nn.CrossEntropyLoss() # define o critério do erro (função de perda eh entropia)\n",
        "optimizer = optim.SGD(net.parameters(), lr=0.01) # define a taxa de aprendizado e o otimizador SGD (Stochastic gradient descent)"
      ]
    },
    {
      "cell_type": "code",
      "execution_count": 19,
      "metadata": {
        "colab": {
          "base_uri": "https://localhost:8080/"
        },
        "id": "MylSH-YkoWSp",
        "outputId": "05ee37f5-1a80-4aed-9b94-6b3911149f45"
      },
      "outputs": [
        {
          "data": {
            "text/plain": [
              "classificador(\n",
              "  (conv1): Conv2d(3, 64, kernel_size=(3, 3), stride=(1, 1))\n",
              "  (conv2): Conv2d(64, 128, kernel_size=(3, 3), stride=(1, 1))\n",
              "  (activation): ReLU()\n",
              "  (pool): MaxPool2d(kernel_size=(2, 2), stride=(2, 2), padding=0, dilation=1, ceil_mode=False)\n",
              "  (flatten): Flatten(start_dim=1, end_dim=-1)\n",
              "  (linear1): Linear(in_features=373248, out_features=128, bias=True)\n",
              "  (linear2): Linear(in_features=128, out_features=64, bias=True)\n",
              "  (output): Linear(in_features=64, out_features=43, bias=True)\n",
              "  (dropout): Dropout(p=0.2, inplace=False)\n",
              ")"
            ]
          },
          "execution_count": 19,
          "metadata": {},
          "output_type": "execute_result"
        }
      ],
      "source": [
        "# Colocar a rede na GPU\n",
        "net.to(device)"
      ]
    },
    {
      "cell_type": "code",
      "execution_count": 20,
      "metadata": {},
      "outputs": [
        {
          "name": "stdout",
          "output_type": "stream",
          "text": [
            "classificador(\n",
            "  (conv1): Conv2d(3, 64, kernel_size=(3, 3), stride=(1, 1))\n",
            "  (conv2): Conv2d(64, 128, kernel_size=(3, 3), stride=(1, 1))\n",
            "  (activation): ReLU()\n",
            "  (pool): MaxPool2d(kernel_size=(2, 2), stride=(2, 2), padding=0, dilation=1, ceil_mode=False)\n",
            "  (flatten): Flatten(start_dim=1, end_dim=-1)\n",
            "  (linear1): Linear(in_features=373248, out_features=128, bias=True)\n",
            "  (linear2): Linear(in_features=128, out_features=64, bias=True)\n",
            "  (output): Linear(in_features=64, out_features=43, bias=True)\n",
            "  (dropout): Dropout(p=0.2, inplace=False)\n",
            ")\n"
          ]
        }
      ],
      "source": [
        "print(net)"
      ]
    },
    {
      "cell_type": "code",
      "execution_count": 21,
      "metadata": {
        "colab": {
          "base_uri": "https://localhost:8080/"
        },
        "id": "EsP1K6sOoZh7",
        "outputId": "c7e0889b-13b1-4908-f2ff-31f7de88a68e"
      },
      "outputs": [
        {
          "name": "stdout",
          "output_type": "stream",
          "text": [
            "Epoch 0/14\n",
            "----------\n",
            "train Loss: 2.5654 Acc: 0.4757\n",
            "val Loss: 5.6531 Acc: 3.1727\n",
            "\n",
            "Epoch 1/14\n",
            "----------\n",
            "train Loss: 1.3998 Acc: 0.7902\n",
            "val Loss: 3.7479 Acc: 3.7108\n",
            "\n",
            "Epoch 2/14\n",
            "----------\n",
            "train Loss: 0.9830 Acc: 0.9319\n",
            "val Loss: 2.8530 Acc: 4.0654\n",
            "\n",
            "Epoch 3/14\n",
            "----------\n",
            "train Loss: 0.7287 Acc: 1.0139\n",
            "val Loss: 1.3548 Acc: 4.6419\n",
            "\n",
            "Epoch 4/14\n",
            "----------\n",
            "train Loss: 0.5626 Acc: 1.0713\n",
            "val Loss: 1.0062 Acc: 4.7610\n",
            "\n",
            "Epoch 5/14\n",
            "----------\n",
            "train Loss: 0.3927 Acc: 1.1272\n",
            "val Loss: 0.4379 Acc: 4.8828\n",
            "\n",
            "Epoch 6/14\n",
            "----------\n",
            "train Loss: 0.3118 Acc: 1.1534\n",
            "val Loss: 0.3010 Acc: 4.9176\n",
            "\n",
            "Epoch 7/14\n",
            "----------\n",
            "train Loss: 0.2356 Acc: 1.1761\n",
            "val Loss: 0.4286 Acc: 4.8602\n",
            "\n",
            "Epoch 8/14\n",
            "----------\n",
            "train Loss: 0.1934 Acc: 1.1906\n",
            "val Loss: 0.3541 Acc: 4.8994\n",
            "\n",
            "Epoch 9/14\n",
            "----------\n",
            "train Loss: 0.1627 Acc: 1.1995\n",
            "val Loss: 0.1157 Acc: 4.9746\n",
            "\n",
            "Epoch 10/14\n",
            "----------\n",
            "train Loss: 0.1459 Acc: 1.2053\n",
            "val Loss: 0.1302 Acc: 4.9640\n",
            "\n",
            "Epoch 11/14\n",
            "----------\n",
            "train Loss: 0.1231 Acc: 1.2131\n",
            "val Loss: 0.1532 Acc: 4.9629\n",
            "\n",
            "Epoch 12/14\n",
            "----------\n",
            "train Loss: 0.1100 Acc: 1.2165\n",
            "val Loss: 0.0989 Acc: 4.9772\n",
            "\n",
            "Epoch 13/14\n",
            "----------\n",
            "train Loss: 0.0944 Acc: 1.2211\n",
            "val Loss: 0.0719 Acc: 4.9788\n",
            "\n",
            "Epoch 14/14\n",
            "----------\n",
            "train Loss: 0.0873 Acc: 1.2230\n",
            "val Loss: 0.0394 Acc: 4.9907\n",
            "\n",
            "Training complete in 53m 18s\n",
            "Best val Acc: 4.990691\n"
          ]
        }
      ],
      "source": [
        "# treinar o modelo. Apresentar os dados de treino para treinar o modelo\n",
        "trained_model = train_model(net, criterion, optimizer, num_epochs=15)"
      ]
    },
    {
      "cell_type": "code",
      "execution_count": 30,
      "metadata": {
        "colab": {
          "base_uri": "https://localhost:8080/",
          "height": 923
        },
        "id": "LYSa2QuZpKD6",
        "outputId": "523c3b2f-efeb-457e-98a9-5e003fb8c93f"
      },
      "outputs": [
        {
          "data": {
            "image/png": "[encoded data removed]",
            "text/plain": [
              "<Figure size 640x480 with 1 Axes>"
            ]
          },
          "metadata": {},
          "output_type": "display_data"
        },
        {
          "data": {
            "image/png": "[encoded data removed]",
            "text/plain": [
              "<Figure size 640x480 with 1 Axes>"
            ]
          },
          "metadata": {},
          "output_type": "display_data"
        },
        {
          "data": {
            "image/png": "[encoded data removed]",
            "text/plain": [
              "<Figure size 640x480 with 1 Axes>"
            ]
          },
          "metadata": {},
          "output_type": "display_data"
        },
        {
          "data": {
            "image/png": "[encoded data removed]",
            "text/plain": [
              "<Figure size 640x480 with 1 Axes>"
            ]
          },
          "metadata": {},
          "output_type": "display_data"
        },
        {
          "data": {
            "image/png": "[encoded data removed]",
            "text/plain": [
              "<Figure size 640x480 with 1 Axes>"
            ]
          },
          "metadata": {},
          "output_type": "display_data"
        },
        {
          "data": {
            "image/png": "[encoded data removed]",
            "text/plain": [
              "<Figure size 640x480 with 1 Axes>"
            ]
          },
          "metadata": {},
          "output_type": "display_data"
        }
      ],
      "source": [
        "# Visualizar a predição de alguns dados de teste (6 imagens)\n",
        "visualize_model(trained_model)"
      ]
    },
    {
      "cell_type": "markdown",
      "metadata": {
        "id": "g0AaYHcEwxAs"
      },
      "source": [
        "### Redes Neurais convolucionais pré treinadas e Transfer Learning\n",
        "\n",
        "Existem modelos pré treinados disponíveis no módulo models do pytorch.\n",
        "\n",
        "Estas redes foram treinadas e validadas em competições e são capzaes de classificar várias coisas: 1000 classes.\n",
        "\n",
        "Podemos usar estas redes como base para os nossos problemas e retreiná-las com os nossos dados.\n",
        "\n"
      ]
    },
    {
      "cell_type": "code",
      "execution_count": null,
      "metadata": {
        "colab": {
          "base_uri": "https://localhost:8080/"
        },
        "id": "zhYx3tPFwYSg",
        "outputId": "5d9afd7e-928d-48d3-beb9-be029b356909"
      },
      "outputs": [],
      "source": [
        "# Carregando o modelo pré-treinado VGG16 (CNN) do pytorch\n",
        "model_ft = models.vgg16(pretrained=True)"
      ]
    },
    {
      "cell_type": "code",
      "execution_count": null,
      "metadata": {
        "colab": {
          "base_uri": "https://localhost:8080/"
        },
        "id": "Wpzh5tFqw6zL",
        "outputId": "3c2bac62-1478-4d19-8512-6a1da45b0537"
      },
      "outputs": [],
      "source": [
        "# Mostra a topologia/estrutura da CNN VGG16\n",
        "print(model_ft)"
      ]
    },
    {
      "cell_type": "code",
      "execution_count": null,
      "metadata": {
        "id": "jSc8AqRyxSL7"
      },
      "outputs": [],
      "source": [
        "# Acessando a quantidade de neurônios da última camada oculta (4096)\n",
        "num_ftrs = model_ft.classifier[6].in_features\n",
        "\n",
        "# Here the size of each output sample is set to 2.\n",
        "# Alternatively, it can be generalized to nn.Linear(num_ftrs, len(class_names)).\n",
        "# Foi removido a camada de 1000 classes e substituído por 2 classes de saída\n",
        "# E criado uma nova camada (4096, 2) para substituir a camada oculta existente\n",
        "# Assim, usamos o modelo pré treinado da VGG16 para o nosso problema em questão\n",
        "model_ft.classifier[6] = nn.Linear(num_ftrs, 2)\n",
        "\n",
        "# Apresenta a rede para GPU\n",
        "model_ft = model_ft.to(device)\n",
        "\n",
        "# Define os critérios\n",
        "criterion = nn.CrossEntropyLoss()\n",
        "\n",
        "# Define o otimizador e a taxa de aprendizado\n",
        "optimizer_ft = optim.SGD(model_ft.parameters(), lr=0.001)"
      ]
    },
    {
      "cell_type": "code",
      "execution_count": null,
      "metadata": {
        "colab": {
          "base_uri": "https://localhost:8080/"
        },
        "id": "Is4TTxpTyhN2",
        "outputId": "35c12cc9-394e-43e2-ace2-630ef4c6da3b"
      },
      "outputs": [],
      "source": [
        "# imprime a estrutura/topologia do modelo\n",
        "print(model_ft)"
      ]
    },
    {
      "cell_type": "code",
      "execution_count": null,
      "metadata": {
        "colab": {
          "base_uri": "https://localhost:8080/"
        },
        "id": "_1et1UogyG2x",
        "outputId": "9a6de701-d900-4e8a-da33-fc22b277bf52"
      },
      "outputs": [],
      "source": [
        "# treinar a última camada da rede CNN, e apresentar o que a rede extraiu de features do VGG16\n",
        "trained_model = train_model(model_ft, criterion, optimizer_ft, num_epochs=15)"
      ]
    },
    {
      "cell_type": "code",
      "execution_count": null,
      "metadata": {
        "colab": {
          "base_uri": "https://localhost:8080/",
          "height": 923
        },
        "id": "TkC9HcHDyTgQ",
        "outputId": "ce0373ae-8054-41f6-c4f9-783140763058"
      },
      "outputs": [],
      "source": [
        "# Visualiza a predição de alguns dados de teste (6 imagens)\n",
        "visualize_model(trained_model)"
      ]
    }
  ],
  "metadata": {
    "accelerator": "GPU",
    "colab": {
      "collapsed_sections": [
        "k475s1q5kZA4"
      ],
      "provenance": []
    },
    "gpuClass": "standard",
    "kernelspec": {
      "display_name": "dali",
      "language": "python",
      "name": "python3"
    },
    "language_info": {
      "codemirror_mode": {
        "name": "ipython",
        "version": 3
      },
      "file_extension": ".py",
      "mimetype": "text/x-python",
      "name": "python",
      "nbconvert_exporter": "python",
      "pygments_lexer": "ipython3",
      "version": "3.10.11"
    }
  },
  "nbformat": 4,
  "nbformat_minor": 0
}
