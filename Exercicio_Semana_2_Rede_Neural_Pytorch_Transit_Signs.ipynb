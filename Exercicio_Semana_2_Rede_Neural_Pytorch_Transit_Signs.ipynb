{
 "cells": [
  {
   "cell_type": "markdown",
   "metadata": {
    "id": "k475s1q5kZA4"
   },
   "source": [
    "##  <font style=\"color:black\">**Curso de Analytics de Imagens e Vídeos**</font>\n",
    "\n",
    "Aula 08 - Classificação de imagens usando RNAs"
   ]
  },
  {
   "cell_type": "markdown",
   "metadata": {
    "id": "hLzXisu_B43r"
   },
   "source": [
    "## **Exemplo prático**\n",
    "\n",
    "Criação e treinamento de rede neural com Pytorch"
   ]
  },
  {
   "cell_type": "code",
   "execution_count": 1,
   "metadata": {
    "colab": {
     "base_uri": "https://localhost:8080/",
     "height": 35
    },
    "executionInfo": {
     "elapsed": 13676,
     "status": "ok",
     "timestamp": 1756331907871,
     "user": {
      "displayName": "Igor Gonçalves",
      "userId": "16259977477645896055"
     },
     "user_tz": 180
    },
    "id": "7XjRYFxcVp6V",
    "outputId": "e43c0e9c-76fb-4127-a966-fd5e1638a43d"
   },
   "outputs": [
    {
     "data": {
      "text/plain": [
       "'2.0.1'"
      ]
     },
     "execution_count": 1,
     "metadata": {},
     "output_type": "execute_result"
    }
   ],
   "source": [
    "# Importação das bibliotecas\n",
    "\n",
    "import numpy as np\n",
    "import matplotlib.pyplot as plt\n",
    "\n",
    "import torch\n",
    "import torch.nn as nn\n",
    "from torch import optim\n",
    "import torch.nn.functional as F\n",
    "from torchvision import datasets\n",
    "import torchvision.transforms as transforms\n",
    "\n",
    "torch.__version__"
   ]
  },
  {
   "cell_type": "markdown",
   "metadata": {
    "id": "pvg8ko9YDUoG"
   },
   "source": [
    "### Funções auxiliares para a execução"
   ]
  },
  {
   "cell_type": "code",
   "execution_count": 2,
   "metadata": {
    "executionInfo": {
     "elapsed": 28,
     "status": "ok",
     "timestamp": 1756331917385,
     "user": {
      "displayName": "Igor Gonçalves",
      "userId": "16259977477645896055"
     },
     "user_tz": 180
    },
    "id": "2d3P3-EUDX7C"
   },
   "outputs": [],
   "source": [
    "def imshow(image, ax=None, title=None, normalize=True):\n",
    "    \"\"\"Imshow for Tensor.\"\"\"\n",
    "    if ax is None:\n",
    "        fig, ax = plt.subplots()\n",
    "    image = image.numpy()\n",
    "\n",
    "    if normalize:\n",
    "        mean = np.array([0.5, 0.5, 0.5])\n",
    "        std = np.array([0.5, 0.5, 0.5])\n",
    "        image = std * image + mean\n",
    "        image = np.clip(image, 0, 1)\n",
    "\n",
    "    ax.imshow(image)\n",
    "    ax.spines['top'].set_visible(False)\n",
    "    ax.spines['right'].set_visible(False)\n",
    "    ax.spines['left'].set_visible(False)\n",
    "    ax.spines['bottom'].set_visible(False)\n",
    "    ax.tick_params(axis='both', length=0)\n",
    "    ax.set_xticklabels('')\n",
    "    ax.set_yticklabels('')\n",
    "\n",
    "    return ax"
   ]
  },
  {
   "cell_type": "markdown",
   "metadata": {
    "id": "S2QKe2hCVzNv"
   },
   "source": [
    "### Base de dados"
   ]
  },
  {
   "cell_type": "code",
   "execution_count": 3,
   "metadata": {
    "executionInfo": {
     "elapsed": 31,
     "status": "ok",
     "timestamp": 1756331925353,
     "user": {
      "displayName": "Igor Gonçalves",
      "userId": "16259977477645896055"
     },
     "user_tz": 180
    },
    "id": "F1OqJDIkVv5k"
   },
   "outputs": [],
   "source": [
    "# Especificando o transformador das imagens para o formato específico do pytorch (média = 0.5 e desvio padrão 0.5)\n",
    "\n",
    "transform = transforms.Compose([transforms.ToTensor(),\n",
    "                                transforms.Normalize((0.5,), (0.5,))])"
   ]
  },
  {
   "cell_type": "code",
   "execution_count": 4,
   "metadata": {
    "executionInfo": {
     "elapsed": 12220,
     "status": "ok",
     "timestamp": 1756331939700,
     "user": {
      "displayName": "Igor Gonçalves",
      "userId": "16259977477645896055"
     },
     "user_tz": 180
    },
    "id": "mRda8FOvBqrt"
   },
   "outputs": [],
   "source": [
    "# baixando base de dados de placas de transito\n",
    "import urllib.request\n",
    "import os.path\n",
    "if not os.path.exists(\"GTSRB_Final_Training_Images.zip\"):\n",
    "    url = (\"https://sid.erda.dk/public/archives/\"\n",
    "    + \"daaeac0d7ce1152aea9b61d9f1e19370/\"\n",
    "    + \"GTSRB_Final_Training_Images.zip\")\n",
    "    filename = \"./GTSRB_Final_Training_Images.zip\"\n",
    "    urllib.request.urlretrieve(url, filename)\n",
    "\n",
    "IMG_SIZE = 28\n",
    "TEST_SIZE = 0.2"
   ]
  },
  {
   "cell_type": "code",
   "execution_count": 5,
   "metadata": {
    "executionInfo": {
     "elapsed": 26976,
     "status": "ok",
     "timestamp": 1756331978560,
     "user": {
      "displayName": "Igor Gonçalves",
      "userId": "16259977477645896055"
     },
     "user_tz": 180
    },
    "id": "XqUYMQ3SCPRY"
   },
   "outputs": [],
   "source": [
    "# lê o arquivo e separa os datasets de treinamento e teste\n",
    "import zipfile\n",
    "from skimage.transform import resize\n",
    "from imageio import imread\n",
    "from PIL import Image\n",
    "\n",
    "X, Xt, y, yt = list(), list(), list(), list()\n",
    "\n",
    "archive = zipfile.ZipFile(\n",
    "          'GTSRB_Final_Training_Images.zip', 'r')\n",
    "file_paths = [file for file in archive.namelist()\n",
    "              if '.ppm' in file]\n",
    "\n",
    "for filename in file_paths:\n",
    "    with archive.open(filename) as img_file:\n",
    "        img = Image.open(img_file).convert('L')\n",
    "    img = np.array(img, dtype=np.uint8)\n",
    "    img = resize(img,\n",
    "                 output_shape=(IMG_SIZE, IMG_SIZE),\n",
    "                 mode='reflect', anti_aliasing=True)\n",
    "\n",
    "    img = (img * 255).astype(np.uint8)\n",
    "    img_class = int(filename.split('/')[-2])\n",
    "\n",
    "    if (hash(filename) % 1000) / 1000 > TEST_SIZE:\n",
    "        X.append(img)\n",
    "        y.append(img_class)\n",
    "    else:\n",
    "        Xt.append(img)\n",
    "        yt.append(img_class)\n",
    "\n",
    "\n",
    "archive.close()"
   ]
  },
  {
   "cell_type": "code",
   "execution_count": 6,
   "metadata": {
    "id": "R2Z_mvJSD7j7"
   },
   "outputs": [],
   "source": [
    "from torch.utils.data import TensorDataset, DataLoader\n",
    "\n",
    "tensor_x_treino = torch.from_numpy(np.array(X, dtype=np.uint8)).to(torch.float32) / 255.\n",
    "tensor_x_teste = torch.from_numpy(np.array(Xt, dtype=np.uint8)).to(torch.float32) / 255.\n",
    "\n",
    "tensor_y_treino = torch.from_numpy(np.array(y)).to(torch.long)\n",
    "tensor_y_teste = torch.from_numpy(np.array(yt)).to(torch.long)\n",
    "\n",
    "tensor_x_treino = (tensor_x_treino - 0.5) / 0.5\n",
    "tensor_x_teste  = (tensor_x_teste  - 0.5) / 0.5\n",
    "\n",
    "dataset_treino = TensorDataset(tensor_x_treino,tensor_y_treino)\n",
    "dataset_teste = TensorDataset(tensor_x_teste,tensor_y_teste)\n",
    "\n",
    "trainloader = DataLoader(dataset_treino, batch_size=64, shuffle=True, num_workers=2)\n",
    "testloader  = DataLoader(dataset_teste, batch_size=64, shuffle=False, num_workers=2)\n"
   ]
  },
  {
   "cell_type": "code",
   "execution_count": 7,
   "metadata": {
    "colab": {
     "base_uri": "https://localhost:8080/",
     "height": 423
    },
    "executionInfo": {
     "elapsed": 181,
     "status": "ok",
     "timestamp": 1756329164861,
     "user": {
      "displayName": "Igor Gonçalves",
      "userId": "16259977477645896055"
     },
     "user_tz": 180
    },
    "id": "DobIfrBiWvq1",
    "outputId": "0081ca80-9cbd-4a05-e72e-1e37988503f8"
   },
   "outputs": [
    {
     "name": "stdout",
     "output_type": "stream",
     "text": [
      "torch.float32\n"
     ]
    }
   ],
   "source": [
    "# Visualizando uma imagem percorrendo o dataloader\n",
    "# (1, 1, 28, 28)\n",
    "\n",
    "image, label = next(iter(trainloader))\n",
    "#imshow(image[0])\n",
    "print(image[0].dtype)"
   ]
  },
  {
   "cell_type": "markdown",
   "metadata": {
    "id": "ibJKWEXGJoTE"
   },
   "source": [
    "Label\t| Description\n",
    "\n",
    "0\t    | T-shirt/top | Camiseta/Blusa"
   ]
  },
  {
   "cell_type": "code",
   "execution_count": null,
   "metadata": {
    "id": "8bis7RYrXTOl"
   },
   "outputs": [],
   "source": []
  },
  {
   "cell_type": "markdown",
   "metadata": {
    "id": "dXl0ahiBX3US"
   },
   "source": [
    "### Criando uma rede neural"
   ]
  },
  {
   "cell_type": "code",
   "execution_count": 8,
   "metadata": {
    "id": "Vle1LawTX5T6"
   },
   "outputs": [],
   "source": [
    "# Criação da classe queno formato especificado pelo pytorch\n",
    "# Classifier é o nome escolhido para a o objeto\n",
    "# dados de entrada (28x28 = 784)\n",
    "# RNA totalmente conectada\n",
    "# saída: 10 classes (camisas, sapatos, etc.)\n",
    "\n",
    "class Classifier(nn.Module):\n",
    "    def __init__(self):\n",
    "        super().__init__()\n",
    "\n",
    "        # Camadas lineares para as conexões\n",
    "        self.fc1 = nn.Linear(784, 256) # camada intermediaria 1\n",
    "        self.fc2 = nn.Linear(256, 128) # camada intermediaria 2\n",
    "        self.fc3 = nn.Linear(128, 64)  # camada intermediaria 3\n",
    "        self.fc4 = nn.Linear(64, 43)   # camada de saida\n",
    "\n",
    "\n",
    "    def forward(self, x):\n",
    "        # make sure input tensor is flattened\n",
    "        x = x.view(x.shape[0], -1)\n",
    "\n",
    "        x = F.relu(self.fc1(x)) # Aplciação da função relu apos o somatório linear\n",
    "        x = F.relu(self.fc2(x)) # Aplciação da função relu apos o somatório linear\n",
    "        x = F.relu(self.fc3(x)) # Aplciação da função relu apos o somatório linear\n",
    "\n",
    "        x = self.fc4(x)         # Não é necessário aplicação da função de ativação na última camada, pois iremos calcular as probabilidades com esta saída\n",
    "\n",
    "        return x"
   ]
  },
  {
   "cell_type": "code",
   "execution_count": 9,
   "metadata": {
    "colab": {
     "base_uri": "https://localhost:8080/"
    },
    "executionInfo": {
     "elapsed": 18,
     "status": "ok",
     "timestamp": 1756328414885,
     "user": {
      "displayName": "Igor Gonçalves",
      "userId": "16259977477645896055"
     },
     "user_tz": 180
    },
    "id": "unSPs1FeZFiU",
    "outputId": "75c068a0-3288-4d06-fbca-08f35e794e16"
   },
   "outputs": [
    {
     "name": "stdout",
     "output_type": "stream",
     "text": [
      "Classifier(\n",
      "  (fc1): Linear(in_features=784, out_features=256, bias=True)\n",
      "  (fc2): Linear(in_features=256, out_features=128, bias=True)\n",
      "  (fc3): Linear(in_features=128, out_features=64, bias=True)\n",
      "  (fc4): Linear(in_features=64, out_features=43, bias=True)\n",
      ")\n"
     ]
    }
   ],
   "source": [
    "# Criando objeto da estrutura da rede\n",
    "\n",
    "net = Classifier()\n",
    "print(net)"
   ]
  },
  {
   "cell_type": "code",
   "execution_count": 10,
   "metadata": {
    "colab": {
     "base_uri": "https://localhost:8080/"
    },
    "executionInfo": {
     "elapsed": 11,
     "status": "ok",
     "timestamp": 1756328414898,
     "user": {
      "displayName": "Igor Gonçalves",
      "userId": "16259977477645896055"
     },
     "user_tz": 180
    },
    "id": "u8z1wcGyVsv6",
    "outputId": "17fb8d0c-ca02-4e7f-f591-d17416c54e81"
   },
   "outputs": [
    {
     "name": "stdout",
     "output_type": "stream",
     "text": [
      "Parameter containing:\n",
      "tensor([[ 8.1515e-03,  1.3033e-02, -3.2232e-02,  ...,  2.5016e-03,\n",
      "          1.4350e-02,  8.3795e-03],\n",
      "        [-2.4256e-02,  1.8194e-02, -1.4510e-03,  ..., -2.3760e-02,\n",
      "          2.8663e-02, -1.3897e-02],\n",
      "        [-2.9045e-02,  5.2122e-03, -1.9632e-02,  ..., -1.3536e-02,\n",
      "          3.2695e-02,  1.4780e-02],\n",
      "        ...,\n",
      "        [ 1.5073e-02, -3.4832e-02, -2.7780e-02,  ...,  1.9376e-02,\n",
      "         -5.4938e-04, -1.3524e-02],\n",
      "        [ 1.0909e-02,  1.3154e-02,  1.5703e-02,  ...,  9.9462e-05,\n",
      "          2.7522e-02,  2.4271e-02],\n",
      "        [ 3.3606e-02,  1.5176e-02, -5.3596e-03,  ...,  1.3361e-03,\n",
      "         -1.5927e-02, -1.9288e-02]], requires_grad=True)\n",
      " \n",
      "torch.Size([256, 784])\n"
     ]
    }
   ],
   "source": [
    "# Onde estão os pesos da rede?\n",
    "# Os pesos estão entre [-1, 1]\n",
    "\n",
    "print(net.fc1.weight)\n",
    "print(' ')\n",
    "print(net.fc1.weight.shape)"
   ]
  },
  {
   "cell_type": "code",
   "execution_count": 11,
   "metadata": {
    "id": "qlyyytrUZHBB"
   },
   "outputs": [],
   "source": [
    "# Definindo parâmetros importantes do treinamento\n",
    "#Função de custo e função de otimização dos parâmetros\n",
    "# Faz-se necessário passar os parâmetros da rede e a taxa de aprendizado (learning rate)\n",
    "\n",
    "criterion = nn.CrossEntropyLoss()\n",
    "optimizer = optim.SGD(net.parameters(), lr=0.01)"
   ]
  },
  {
   "cell_type": "markdown",
   "metadata": {
    "id": "d4PlwUfHZas0"
   },
   "source": [
    "### Etapa de treinamento"
   ]
  },
  {
   "cell_type": "code",
   "execution_count": 12,
   "metadata": {
    "colab": {
     "base_uri": "https://localhost:8080/"
    },
    "executionInfo": {
     "elapsed": 444,
     "status": "ok",
     "timestamp": 1756328415351,
     "user": {
      "displayName": "Igor Gonçalves",
      "userId": "16259977477645896055"
     },
     "user_tz": 180
    },
    "id": "LBtXGdpIZcIj",
    "outputId": "8fdabb45-c582-4e65-ef15-aa07cbe980ec"
   },
   "outputs": [
    {
     "data": {
      "text/plain": [
       "device(type='cuda')"
      ]
     },
     "execution_count": 12,
     "metadata": {},
     "output_type": "execute_result"
    }
   ],
   "source": [
    "# verificando disponibilidade da gpu\n",
    "device = torch.device('cuda') if torch.cuda.is_available else torch.devide('cpu')\n",
    "device"
   ]
  },
  {
   "cell_type": "markdown",
   "metadata": {
    "id": "diaehJiVZl02"
   },
   "source": [
    "## Adiciona a rede para a GPU"
   ]
  },
  {
   "cell_type": "code",
   "execution_count": 13,
   "metadata": {
    "colab": {
     "base_uri": "https://localhost:8080/"
    },
    "executionInfo": {
     "elapsed": 17,
     "status": "ok",
     "timestamp": 1756328415355,
     "user": {
      "displayName": "Igor Gonçalves",
      "userId": "16259977477645896055"
     },
     "user_tz": 180
    },
    "id": "uKWd6FNdZdbF",
    "outputId": "f31812ed-ae02-460b-d2c0-31eff7048155"
   },
   "outputs": [
    {
     "data": {
      "text/plain": [
       "Classifier(\n",
       "  (fc1): Linear(in_features=784, out_features=256, bias=True)\n",
       "  (fc2): Linear(in_features=256, out_features=128, bias=True)\n",
       "  (fc3): Linear(in_features=128, out_features=64, bias=True)\n",
       "  (fc4): Linear(in_features=64, out_features=43, bias=True)\n",
       ")"
      ]
     },
     "execution_count": 13,
     "metadata": {},
     "output_type": "execute_result"
    }
   ],
   "source": [
    "net.to(device)"
   ]
  },
  {
   "cell_type": "code",
   "execution_count": 14,
   "metadata": {
    "id": "u-ISlKK4ZfNn"
   },
   "outputs": [],
   "source": [
    "import torch\n",
    "import torch.nn.functional as F\n",
    "\n",
    "\n",
    "loss_train = []\n",
    "loss_test = []\n",
    "acc_train = []\n",
    "acc_test = []\n",
    "\n",
    "def training_loop(net, loader, optimizer, criterion, device, epoch, train=True):\n",
    "    \"\"\"\n",
    "    Função de treino/teste de uma época.\n",
    "\n",
    "    Args:\n",
    "        net: modelo PyTorch\n",
    "        loader: DataLoader (treino ou teste)\n",
    "        optimizer: otimizador (apenas usado se train=True)\n",
    "        criterion: função de perda\n",
    "        device: 'cuda' ou 'cpu'\n",
    "        epoch: número da época (para log)\n",
    "        train: se True faz backprop, se False apenas avalia\n",
    "    \"\"\"\n",
    "    running_loss = 0.0\n",
    "    running_accuracy = 0.0\n",
    "\n",
    "    if train:\n",
    "        net.train()\n",
    "    else:\n",
    "        net.eval()\n",
    "\n",
    "    for i, (inputs, labels) in enumerate(loader):\n",
    "        inputs, labels = inputs.to(device), labels.to(device)\n",
    "\n",
    "        if train:\n",
    "            optimizer.zero_grad()\n",
    "\n",
    "        outputs = net(inputs)  # logits crus (não aplicar softmax)\n",
    "\n",
    "        loss = criterion(outputs, labels)\n",
    "\n",
    "        if train:\n",
    "            loss.backward()\n",
    "            optimizer.step()\n",
    "\n",
    "        running_loss += loss.item()\n",
    "\n",
    "        # Cálculo da acurácia\n",
    "        # Softmax não necessário para acurácia, mas vamos pegar a classe com maior logit\n",
    "        _, preds = torch.max(outputs, dim=1)\n",
    "        equals = preds == labels\n",
    "        accuracy = torch.mean(equals.float())\n",
    "        running_accuracy += accuracy.item()\n",
    "\n",
    "    # Média por batch\n",
    "    avg_loss = running_loss / len(loader)\n",
    "    avg_acc = running_accuracy / len(loader)\n",
    "\n",
    "    fase = \"Treinando\" if train else \"Testando\"\n",
    "    print(f\"{fase}... ÉPOCA {epoch+1:3d} FINALIZADA: perda {avg_loss:.6f} - acurácia {avg_acc:.5f}\")\n",
    "\n",
    "    if train:\n",
    "        loss_train.append((epoch, avg_loss))\n",
    "        acc_train.append((epoch, avg_acc))\n",
    "    else:\n",
    "        loss_test.append((epoch, avg_loss))\n",
    "        acc_test.append((epoch, avg_acc))\n",
    "\n",
    "    return avg_loss, avg_acc\n"
   ]
  },
  {
   "cell_type": "code",
   "execution_count": 15,
   "metadata": {
    "colab": {
     "base_uri": "https://localhost:8080/",
     "height": 391
    },
    "executionInfo": {
     "elapsed": 40,
     "status": "error",
     "timestamp": 1756328415488,
     "user": {
      "displayName": "Igor Gonçalves",
      "userId": "16259977477645896055"
     },
     "user_tz": 180
    },
    "id": "Xl-rGXQdaUKz",
    "outputId": "77d64273-b2a0-4002-913c-29c3bb7f6f98"
   },
   "outputs": [
    {
     "name": "stdout",
     "output_type": "stream",
     "text": [
      "Treinando... ÉPOCA   1 FINALIZADA: perda 3.697370 - acurácia 0.04793\n",
      "Testando... ÉPOCA   1 FINALIZADA: perda 3.561559 - acurácia 0.04713\n",
      "Treinando... ÉPOCA   2 FINALIZADA: perda 3.496327 - acurácia 0.05563\n",
      "Testando... ÉPOCA   2 FINALIZADA: perda 3.491073 - acurácia 0.06888\n",
      "Treinando... ÉPOCA   3 FINALIZADA: perda 3.439141 - acurácia 0.07773\n",
      "Testando... ÉPOCA   3 FINALIZADA: perda 3.422861 - acurácia 0.08662\n",
      "Treinando... ÉPOCA   4 FINALIZADA: perda 3.356600 - acurácia 0.09957\n",
      "Testando... ÉPOCA   4 FINALIZADA: perda 3.331729 - acurácia 0.12750\n",
      "Treinando... ÉPOCA   5 FINALIZADA: perda 3.256260 - acurácia 0.13516\n",
      "Testando... ÉPOCA   5 FINALIZADA: perda 3.209406 - acurácia 0.16212\n",
      "Treinando... ÉPOCA   6 FINALIZADA: perda 3.081700 - acurácia 0.16605\n",
      "Testando... ÉPOCA   6 FINALIZADA: perda 2.988763 - acurácia 0.19287\n",
      "Treinando... ÉPOCA   7 FINALIZADA: perda 2.801379 - acurácia 0.21452\n",
      "Testando... ÉPOCA   7 FINALIZADA: perda 2.684153 - acurácia 0.24125\n",
      "Treinando... ÉPOCA   8 FINALIZADA: perda 2.517088 - acurácia 0.28985\n",
      "Testando... ÉPOCA   8 FINALIZADA: perda 2.468510 - acurácia 0.29087\n",
      "Treinando... ÉPOCA   9 FINALIZADA: perda 2.272411 - acurácia 0.35219\n",
      "Testando... ÉPOCA   9 FINALIZADA: perda 2.310751 - acurácia 0.33375\n",
      "Treinando... ÉPOCA  10 FINALIZADA: perda 2.047895 - acurácia 0.40773\n",
      "Testando... ÉPOCA  10 FINALIZADA: perda 2.035883 - acurácia 0.38150\n",
      "Treinando... ÉPOCA  11 FINALIZADA: perda 1.831008 - acurácia 0.46704\n",
      "Testando... ÉPOCA  11 FINALIZADA: perda 1.900097 - acurácia 0.43038\n",
      "Treinando... ÉPOCA  12 FINALIZADA: perda 1.621434 - acurácia 0.52243\n",
      "Testando... ÉPOCA  12 FINALIZADA: perda 1.747779 - acurácia 0.49925\n",
      "Treinando... ÉPOCA  13 FINALIZADA: perda 1.462398 - acurácia 0.56516\n",
      "Testando... ÉPOCA  13 FINALIZADA: perda 1.533026 - acurácia 0.53506\n",
      "Treinando... ÉPOCA  14 FINALIZADA: perda 1.335108 - acurácia 0.60854\n",
      "Testando... ÉPOCA  14 FINALIZADA: perda 1.256137 - acurácia 0.61276\n",
      "Treinando... ÉPOCA  15 FINALIZADA: perda 1.242251 - acurácia 0.63818\n",
      "Testando... ÉPOCA  15 FINALIZADA: perda 1.274115 - acurácia 0.62785\n",
      "Treinando... ÉPOCA  16 FINALIZADA: perda 1.143712 - acurácia 0.66964\n",
      "Testando... ÉPOCA  16 FINALIZADA: perda 1.505244 - acurácia 0.56681\n",
      "Treinando... ÉPOCA  17 FINALIZADA: perda 1.055221 - acurácia 0.69582\n",
      "Testando... ÉPOCA  17 FINALIZADA: perda 0.977416 - acurácia 0.71154\n",
      "Treinando... ÉPOCA  18 FINALIZADA: perda 0.988306 - acurácia 0.71986\n",
      "Testando... ÉPOCA  18 FINALIZADA: perda 1.712343 - acurácia 0.54175\n",
      "Treinando... ÉPOCA  19 FINALIZADA: perda 0.947592 - acurácia 0.73231\n",
      "Testando... ÉPOCA  19 FINALIZADA: perda 1.352360 - acurácia 0.61579\n",
      "Treinando... ÉPOCA  20 FINALIZADA: perda 0.882773 - acurácia 0.75102\n",
      "Testando... ÉPOCA  20 FINALIZADA: perda 1.899352 - acurácia 0.60787\n",
      "Treinando... ÉPOCA  21 FINALIZADA: perda 0.849598 - acurácia 0.76118\n",
      "Testando... ÉPOCA  21 FINALIZADA: perda 0.877534 - acurácia 0.72895\n",
      "Treinando... ÉPOCA  22 FINALIZADA: perda 0.822269 - acurácia 0.76998\n",
      "Testando... ÉPOCA  22 FINALIZADA: perda 0.908582 - acurácia 0.70266\n",
      "Treinando... ÉPOCA  23 FINALIZADA: perda 0.759710 - acurácia 0.78652\n",
      "Testando... ÉPOCA  23 FINALIZADA: perda 7.919930 - acurácia 0.37400\n",
      "Treinando... ÉPOCA  24 FINALIZADA: perda 0.771313 - acurácia 0.79019\n",
      "Testando... ÉPOCA  24 FINALIZADA: perda 1.801277 - acurácia 0.55760\n",
      "Treinando... ÉPOCA  25 FINALIZADA: perda 0.692297 - acurácia 0.80862\n",
      "Testando... ÉPOCA  25 FINALIZADA: perda 1.271499 - acurácia 0.67783\n",
      "Treinando... ÉPOCA  26 FINALIZADA: perda 0.673049 - acurácia 0.81706\n",
      "Testando... ÉPOCA  26 FINALIZADA: perda 1.948311 - acurácia 0.57021\n",
      "Treinando... ÉPOCA  27 FINALIZADA: perda 0.645533 - acurácia 0.82081\n",
      "Testando... ÉPOCA  27 FINALIZADA: perda 1.165806 - acurácia 0.70108\n",
      "Treinando... ÉPOCA  28 FINALIZADA: perda 0.609039 - acurácia 0.83160\n",
      "Testando... ÉPOCA  28 FINALIZADA: perda 2.747989 - acurácia 0.54177\n",
      "Treinando... ÉPOCA  29 FINALIZADA: perda 0.611891 - acurácia 0.83267\n",
      "Testando... ÉPOCA  29 FINALIZADA: perda 1.060415 - acurácia 0.71268\n",
      "Treinando... ÉPOCA  30 FINALIZADA: perda 0.575932 - acurácia 0.84119\n",
      "Testando... ÉPOCA  30 FINALIZADA: perda 0.568463 - acurácia 0.84494\n",
      "Treinando... ÉPOCA  31 FINALIZADA: perda 0.556969 - acurácia 0.84603\n",
      "Testando... ÉPOCA  31 FINALIZADA: perda 0.680305 - acurácia 0.80682\n",
      "Treinando... ÉPOCA  32 FINALIZADA: perda 0.528119 - acurácia 0.85624\n",
      "Testando... ÉPOCA  32 FINALIZADA: perda 0.623136 - acurácia 0.81476\n",
      "Treinando... ÉPOCA  33 FINALIZADA: perda 0.516131 - acurácia 0.85814\n",
      "Testando... ÉPOCA  33 FINALIZADA: perda 3.114039 - acurácia 0.57027\n",
      "Treinando... ÉPOCA  34 FINALIZADA: perda 0.505564 - acurácia 0.86302\n",
      "Testando... ÉPOCA  34 FINALIZADA: perda 0.643729 - acurácia 0.80786\n",
      "Treinando... ÉPOCA  35 FINALIZADA: perda 0.475590 - acurácia 0.87054\n",
      "Testando... ÉPOCA  35 FINALIZADA: perda 0.789396 - acurácia 0.78197\n",
      "Treinando... ÉPOCA  36 FINALIZADA: perda 0.467508 - acurácia 0.87118\n",
      "Testando... ÉPOCA  36 FINALIZADA: perda 1.761285 - acurácia 0.66165\n",
      "Treinando... ÉPOCA  37 FINALIZADA: perda 0.453738 - acurácia 0.87864\n",
      "Testando... ÉPOCA  37 FINALIZADA: perda 0.430629 - acurácia 0.89459\n",
      "Treinando... ÉPOCA  38 FINALIZADA: perda 0.444343 - acurácia 0.87820\n",
      "Testando... ÉPOCA  38 FINALIZADA: perda 0.443979 - acurácia 0.89004\n",
      "Treinando... ÉPOCA  39 FINALIZADA: perda 0.425677 - acurácia 0.88249\n",
      "Testando... ÉPOCA  39 FINALIZADA: perda 1.334985 - acurácia 0.70799\n",
      "Treinando... ÉPOCA  40 FINALIZADA: perda 0.426657 - acurácia 0.88479\n",
      "Testando... ÉPOCA  40 FINALIZADA: perda 3.153935 - acurácia 0.55637\n",
      "Treinando... ÉPOCA  41 FINALIZADA: perda 0.412499 - acurácia 0.88903\n",
      "Testando... ÉPOCA  41 FINALIZADA: perda 0.410700 - acurácia 0.89461\n",
      "Treinando... ÉPOCA  42 FINALIZADA: perda 0.389576 - acurácia 0.89577\n",
      "Testando... ÉPOCA  42 FINALIZADA: perda 0.581930 - acurácia 0.83120\n",
      "Treinando... ÉPOCA  43 FINALIZADA: perda 0.384067 - acurácia 0.89575\n",
      "Testando... ÉPOCA  43 FINALIZADA: perda 0.461472 - acurácia 0.86892\n",
      "Treinando... ÉPOCA  44 FINALIZADA: perda 0.389559 - acurácia 0.89467\n",
      "Testando... ÉPOCA  44 FINALIZADA: perda 3.103040 - acurácia 0.60129\n",
      "Treinando... ÉPOCA  45 FINALIZADA: perda 0.378441 - acurácia 0.89909\n",
      "Testando... ÉPOCA  45 FINALIZADA: perda 1.058654 - acurácia 0.75536\n",
      "Treinando... ÉPOCA  46 FINALIZADA: perda 0.352742 - acurácia 0.90465\n",
      "Testando... ÉPOCA  46 FINALIZADA: perda 0.395295 - acurácia 0.90092\n",
      "Treinando... ÉPOCA  47 FINALIZADA: perda 0.345777 - acurácia 0.90588\n",
      "Testando... ÉPOCA  47 FINALIZADA: perda 1.689137 - acurácia 0.69041\n",
      "Treinando... ÉPOCA  48 FINALIZADA: perda 0.342158 - acurácia 0.90766\n",
      "Testando... ÉPOCA  48 FINALIZADA: perda 0.351039 - acurácia 0.91534\n",
      "Treinando... ÉPOCA  49 FINALIZADA: perda 0.331295 - acurácia 0.91085\n",
      "Testando... ÉPOCA  49 FINALIZADA: perda 0.556315 - acurácia 0.85309\n",
      "Treinando... ÉPOCA  50 FINALIZADA: perda 0.329111 - acurácia 0.91022\n",
      "Testando... ÉPOCA  50 FINALIZADA: perda 1.187467 - acurácia 0.73430\n",
      "Treinando... ÉPOCA  51 FINALIZADA: perda 0.323192 - acurácia 0.91235\n",
      "Testando... ÉPOCA  51 FINALIZADA: perda 0.354919 - acurácia 0.90909\n",
      "Treinando... ÉPOCA  52 FINALIZADA: perda 0.315048 - acurácia 0.91354\n",
      "Testando... ÉPOCA  52 FINALIZADA: perda 0.647769 - acurácia 0.83569\n",
      "Treinando... ÉPOCA  53 FINALIZADA: perda 0.306841 - acurácia 0.91741\n",
      "Testando... ÉPOCA  53 FINALIZADA: perda 0.876095 - acurácia 0.76626\n",
      "Treinando... ÉPOCA  54 FINALIZADA: perda 0.312712 - acurácia 0.91482\n",
      "Testando... ÉPOCA  54 FINALIZADA: perda 1.221131 - acurácia 0.76359\n",
      "Treinando... ÉPOCA  55 FINALIZADA: perda 0.292882 - acurácia 0.91977\n",
      "Testando... ÉPOCA  55 FINALIZADA: perda 0.332677 - acurácia 0.92284\n",
      "Treinando... ÉPOCA  56 FINALIZADA: perda 0.289552 - acurácia 0.92169\n",
      "Testando... ÉPOCA  56 FINALIZADA: perda 0.430561 - acurácia 0.87940\n",
      "Treinando... ÉPOCA  57 FINALIZADA: perda 0.294682 - acurácia 0.92031\n",
      "Testando... ÉPOCA  57 FINALIZADA: perda 0.419233 - acurácia 0.88494\n",
      "Treinando... ÉPOCA  58 FINALIZADA: perda 0.282739 - acurácia 0.92328\n",
      "Testando... ÉPOCA  58 FINALIZADA: perda 1.381584 - acurácia 0.72899\n",
      "Treinando... ÉPOCA  59 FINALIZADA: perda 0.275591 - acurácia 0.92368\n",
      "Testando... ÉPOCA  59 FINALIZADA: perda 2.398904 - acurácia 0.67804\n",
      "Treinando... ÉPOCA  60 FINALIZADA: perda 0.276730 - acurácia 0.92600\n",
      "Testando... ÉPOCA  60 FINALIZADA: perda 0.324510 - acurácia 0.92817\n",
      "Treinando... ÉPOCA  61 FINALIZADA: perda 0.263247 - acurácia 0.92916\n",
      "Testando... ÉPOCA  61 FINALIZADA: perda 0.345703 - acurácia 0.91136\n",
      "Treinando... ÉPOCA  62 FINALIZADA: perda 0.261036 - acurácia 0.92823\n",
      "Testando... ÉPOCA  62 FINALIZADA: perda 0.622258 - acurácia 0.84815\n",
      "Treinando... ÉPOCA  63 FINALIZADA: perda 0.251489 - acurácia 0.93178\n",
      "Testando... ÉPOCA  63 FINALIZADA: perda 0.325227 - acurácia 0.92206\n",
      "Treinando... ÉPOCA  64 FINALIZADA: perda 0.251175 - acurácia 0.93143\n",
      "Testando... ÉPOCA  64 FINALIZADA: perda 0.411708 - acurácia 0.89484\n",
      "Treinando... ÉPOCA  65 FINALIZADA: perda 0.249029 - acurácia 0.93317\n",
      "Testando... ÉPOCA  65 FINALIZADA: perda 0.713901 - acurácia 0.80143\n",
      "Treinando... ÉPOCA  66 FINALIZADA: perda 0.256453 - acurácia 0.93207\n",
      "Testando... ÉPOCA  66 FINALIZADA: perda 0.422426 - acurácia 0.88929\n",
      "Treinando... ÉPOCA  67 FINALIZADA: perda 0.241556 - acurácia 0.93392\n",
      "Testando... ÉPOCA  67 FINALIZADA: perda 0.339972 - acurácia 0.91167\n",
      "Treinando... ÉPOCA  68 FINALIZADA: perda 0.237809 - acurácia 0.93315\n",
      "Testando... ÉPOCA  68 FINALIZADA: perda 0.312615 - acurácia 0.92594\n",
      "Treinando... ÉPOCA  69 FINALIZADA: perda 0.237540 - acurácia 0.93552\n",
      "Testando... ÉPOCA  69 FINALIZADA: perda 0.326729 - acurácia 0.91729\n",
      "Treinando... ÉPOCA  70 FINALIZADA: perda 0.226583 - acurácia 0.93586\n",
      "Testando... ÉPOCA  70 FINALIZADA: perda 2.527865 - acurácia 0.65555\n",
      "Treinando... ÉPOCA  71 FINALIZADA: perda 0.245793 - acurácia 0.93515\n",
      "Testando... ÉPOCA  71 FINALIZADA: perda 0.517552 - acurácia 0.86550\n",
      "Treinando... ÉPOCA  72 FINALIZADA: perda 0.217096 - acurácia 0.94089\n",
      "Testando... ÉPOCA  72 FINALIZADA: perda 1.107022 - acurácia 0.78213\n",
      "Treinando... ÉPOCA  73 FINALIZADA: perda 0.206572 - acurácia 0.94373\n",
      "Testando... ÉPOCA  73 FINALIZADA: perda 0.326289 - acurácia 0.92036\n",
      "Treinando... ÉPOCA  74 FINALIZADA: perda 0.209030 - acurácia 0.94354\n",
      "Testando... ÉPOCA  74 FINALIZADA: perda 0.295365 - acurácia 0.92850\n",
      "Treinando... ÉPOCA  75 FINALIZADA: perda 0.202741 - acurácia 0.94498\n",
      "Testando... ÉPOCA  75 FINALIZADA: perda 0.306302 - acurácia 0.92752\n",
      "Treinando... ÉPOCA  76 FINALIZADA: perda 0.206490 - acurácia 0.94418\n",
      "Testando... ÉPOCA  76 FINALIZADA: perda 0.362321 - acurácia 0.90344\n",
      "Treinando... ÉPOCA  77 FINALIZADA: perda 0.203000 - acurácia 0.94450\n",
      "Testando... ÉPOCA  77 FINALIZADA: perda 0.311663 - acurácia 0.92512\n",
      "Treinando... ÉPOCA  78 FINALIZADA: perda 0.195858 - acurácia 0.94668\n",
      "Testando... ÉPOCA  78 FINALIZADA: perda 0.929440 - acurácia 0.80856\n",
      "Treinando... ÉPOCA  79 FINALIZADA: perda 0.197825 - acurácia 0.94613\n",
      "Testando... ÉPOCA  79 FINALIZADA: perda 0.847787 - acurácia 0.80897\n",
      "Treinando... ÉPOCA  80 FINALIZADA: perda 0.198893 - acurácia 0.94711\n",
      "Testando... ÉPOCA  80 FINALIZADA: perda 2.453271 - acurácia 0.65785\n",
      "Treinando... ÉPOCA  81 FINALIZADA: perda 0.194935 - acurácia 0.94875\n",
      "Testando... ÉPOCA  81 FINALIZADA: perda 0.317479 - acurácia 0.92544\n",
      "Treinando... ÉPOCA  82 FINALIZADA: perda 0.183239 - acurácia 0.94988\n",
      "Testando... ÉPOCA  82 FINALIZADA: perda 0.885959 - acurácia 0.80553\n",
      "Treinando... ÉPOCA  83 FINALIZADA: perda 0.189049 - acurácia 0.94849\n",
      "Testando... ÉPOCA  83 FINALIZADA: perda 0.313852 - acurácia 0.91942\n",
      "Treinando... ÉPOCA  84 FINALIZADA: perda 0.183351 - acurácia 0.95076\n",
      "Testando... ÉPOCA  84 FINALIZADA: perda 0.343057 - acurácia 0.91071\n",
      "Treinando... ÉPOCA  85 FINALIZADA: perda 0.171377 - acurácia 0.95265\n",
      "Testando... ÉPOCA  85 FINALIZADA: perda 0.436071 - acurácia 0.88856\n",
      "Treinando... ÉPOCA  86 FINALIZADA: perda 0.170047 - acurácia 0.95370\n",
      "Testando... ÉPOCA  86 FINALIZADA: perda 0.377164 - acurácia 0.89513\n",
      "Treinando... ÉPOCA  87 FINALIZADA: perda 0.174670 - acurácia 0.95316\n",
      "Testando... ÉPOCA  87 FINALIZADA: perda 0.370773 - acurácia 0.90531\n",
      "Treinando... ÉPOCA  88 FINALIZADA: perda 0.175896 - acurácia 0.95127\n",
      "Testando... ÉPOCA  88 FINALIZADA: perda 0.324330 - acurácia 0.92152\n",
      "Treinando... ÉPOCA  89 FINALIZADA: perda 0.167714 - acurácia 0.95463\n",
      "Testando... ÉPOCA  89 FINALIZADA: perda 0.535836 - acurácia 0.86953\n",
      "Treinando... ÉPOCA  90 FINALIZADA: perda 0.165885 - acurácia 0.95504\n",
      "Testando... ÉPOCA  90 FINALIZADA: perda 0.437901 - acurácia 0.89481\n",
      "Treinando... ÉPOCA  91 FINALIZADA: perda 0.168390 - acurácia 0.95498\n",
      "Testando... ÉPOCA  91 FINALIZADA: perda 2.325672 - acurácia 0.72133\n",
      "Treinando... ÉPOCA  92 FINALIZADA: perda 0.165068 - acurácia 0.95779\n",
      "Testando... ÉPOCA  92 FINALIZADA: perda 0.411654 - acurácia 0.89228\n",
      "Treinando... ÉPOCA  93 FINALIZADA: perda 0.157625 - acurácia 0.95629\n",
      "Testando... ÉPOCA  93 FINALIZADA: perda 0.293084 - acurácia 0.92863\n",
      "Treinando... ÉPOCA  94 FINALIZADA: perda 0.159549 - acurácia 0.95606\n",
      "Testando... ÉPOCA  94 FINALIZADA: perda 0.254457 - acurácia 0.94265\n",
      "Treinando... ÉPOCA  95 FINALIZADA: perda 0.160838 - acurácia 0.95725\n",
      "Testando... ÉPOCA  95 FINALIZADA: perda 0.586371 - acurácia 0.85211\n",
      "Treinando... ÉPOCA  96 FINALIZADA: perda 0.142791 - acurácia 0.96060\n",
      "Testando... ÉPOCA  96 FINALIZADA: perda 0.294834 - acurácia 0.92888\n",
      "Treinando... ÉPOCA  97 FINALIZADA: perda 0.154702 - acurácia 0.95924\n",
      "Testando... ÉPOCA  97 FINALIZADA: perda 2.224480 - acurácia 0.68330\n",
      "Treinando... ÉPOCA  98 FINALIZADA: perda 0.158180 - acurácia 0.95782\n",
      "Testando... ÉPOCA  98 FINALIZADA: perda 0.279422 - acurácia 0.93892\n",
      "Treinando... ÉPOCA  99 FINALIZADA: perda 0.146306 - acurácia 0.96028\n",
      "Testando... ÉPOCA  99 FINALIZADA: perda 0.304734 - acurácia 0.92744\n",
      "Treinando... ÉPOCA 100 FINALIZADA: perda 0.146698 - acurácia 0.96175\n",
      "Testando... ÉPOCA 100 FINALIZADA: perda 0.491894 - acurácia 0.87563\n"
     ]
    }
   ],
   "source": [
    "device = torch.device(\"cuda\" if torch.cuda.is_available() else \"cpu\")\n",
    "net.to(device)\n",
    "\n",
    "criterion = torch.nn.CrossEntropyLoss()\n",
    "optimizer = torch.optim.SGD(net.parameters(), lr=0.01)\n",
    "\n",
    "num_epochs = 100\n",
    "for epoch in range(num_epochs):\n",
    "    # Treino\n",
    "    training_loop(net, trainloader, optimizer, criterion, device, epoch, train=True)\n",
    "    # Validação/teste\n",
    "    training_loop(net, testloader, optimizer, criterion, device, epoch, train=False)\n"
   ]
  },
  {
   "cell_type": "code",
   "execution_count": 16,
   "metadata": {},
   "outputs": [
    {
     "data": {
      "image/png": "[encoded data removed]",
      "text/plain": [
       "<Figure size 1200x500 with 2 Axes>"
      ]
     },
     "metadata": {},
     "output_type": "display_data"
    }
   ],
   "source": [
    "import matplotlib.pyplot as plt\n",
    "\n",
    "# Separando épocas e valores\n",
    "epochs_loss_train, values_loss_train = zip(*loss_train)\n",
    "epochs_acc_train, values_acc_train   = zip(*acc_train)\n",
    "epochs_loss_test, values_loss_test   = zip(*loss_test)\n",
    "epochs_acc_test, values_acc_test     = zip(*acc_test)\n",
    "\n",
    "plt.figure(figsize=(12,5))\n",
    "\n",
    "# --- Gráfico de Loss ---\n",
    "plt.subplot(1,2,1)\n",
    "plt.plot(epochs_loss_train, values_loss_train, label=\"Train Loss\", marker='o')\n",
    "plt.plot(epochs_loss_test, values_loss_test, label=\"Test Loss\", marker='o')\n",
    "plt.xlabel(\"Época\")\n",
    "plt.ylabel(\"Loss\")\n",
    "plt.title(\"Evolução da Loss\")\n",
    "plt.legend()\n",
    "plt.grid(True)\n",
    "\n",
    "# --- Gráfico de Acurácia ---\n",
    "plt.subplot(1,2,2)\n",
    "plt.plot(epochs_acc_train, values_acc_train, label=\"Train Accuracy\", marker='o')\n",
    "plt.plot(epochs_acc_test, values_acc_test, label=\"Test Accuracy\", marker='o')\n",
    "plt.xlabel(\"Época\")\n",
    "plt.ylabel(\"Acurácia\")\n",
    "plt.title(\"Evolução da Acurácia\")\n",
    "plt.legend()\n",
    "plt.grid(True)\n",
    "\n",
    "plt.tight_layout()\n",
    "plt.show()\n"
   ]
  },
  {
   "cell_type": "markdown",
   "metadata": {
    "id": "X2FkKw-sa4vq"
   },
   "source": [
    "### Avaliação do Modelo"
   ]
  },
  {
   "cell_type": "code",
   "execution_count": 17,
   "metadata": {},
   "outputs": [
    {
     "name": "stdout",
     "output_type": "stream",
     "text": [
      "tensor(-0.9765) tensor(1.)\n",
      "tensor(-0.9686) tensor(1.)\n",
      "tensor(0) tensor(42)\n",
      "tensor(0) tensor(42)\n"
     ]
    }
   ],
   "source": [
    "print(tensor_x_treino.min(), tensor_x_treino.max())\n",
    "print(tensor_x_teste.min(), tensor_x_teste.max())\n",
    "print(tensor_y_treino.min(), tensor_y_treino.max())\n",
    "print(tensor_y_teste.min(), tensor_y_teste.max())\n"
   ]
  },
  {
   "cell_type": "code",
   "execution_count": 18,
   "metadata": {
    "id": "Pn7xQI7za6j5"
   },
   "outputs": [
    {
     "data": {
      "text/plain": [
       "<matplotlib.image.AxesImage at 0x29f6f4864d0>"
      ]
     },
     "execution_count": 18,
     "metadata": {},
     "output_type": "execute_result"
    },
    {
     "data": {
      "image/png": "[encoded data removed]",
      "text/plain": [
       "<Figure size 640x480 with 1 Axes>"
      ]
     },
     "metadata": {},
     "output_type": "display_data"
    }
   ],
   "source": [
    "# Percorrendo as imagens do loader de teste e pegando uma imagem unica\n",
    "\n",
    "imagem = next(iter(testloader))[0][0].view(28,28)\n",
    "plt.imshow(imagem, cmap='gray')"
   ]
  },
  {
   "cell_type": "code",
   "execution_count": 19,
   "metadata": {
    "id": "Hvww7YGrbCF0"
   },
   "outputs": [
    {
     "data": {
      "text/plain": [
       "torch.Size([28, 28])"
      ]
     },
     "execution_count": 19,
     "metadata": {},
     "output_type": "execute_result"
    }
   ],
   "source": [
    "imagem.shape"
   ]
  },
  {
   "cell_type": "code",
   "execution_count": 20,
   "metadata": {
    "id": "yQjPSU7YbavX"
   },
   "outputs": [
    {
     "data": {
      "text/plain": [
       "torch.Size([1, 1, 28, 28])"
      ]
     },
     "execution_count": 20,
     "metadata": {},
     "output_type": "execute_result"
    }
   ],
   "source": [
    "# Formatando imagem para o shape requerido pelo pytorch\n",
    "\n",
    "imagem = imagem.view(1, 1, 28, 28)\n",
    "imagem.shape"
   ]
  },
  {
   "cell_type": "code",
   "execution_count": 21,
   "metadata": {
    "id": "AWDEaTBGbFGf"
   },
   "outputs": [],
   "source": [
    "# Colocando a rede no modo eval e passando para gpu\n",
    "\n",
    "net.eval()\n",
    "imagem = imagem.to(device)"
   ]
  },
  {
   "cell_type": "code",
   "execution_count": 22,
   "metadata": {
    "id": "NQFlAYJCbMZH"
   },
   "outputs": [],
   "source": [
    "# Realizando previsão\n",
    "\n",
    "previsao = net.forward(imagem)"
   ]
  },
  {
   "cell_type": "code",
   "execution_count": 23,
   "metadata": {
    "id": "GoJ3yuazbSvI"
   },
   "outputs": [
    {
     "name": "stdout",
     "output_type": "stream",
     "text": [
      "tensor([[ 38.3116,  38.0392,  29.7017,   8.4514,  24.7625,  13.4588,  -4.9236,\n",
      "          14.5308,  15.0298,   6.8891, -17.5560,   4.5755,  15.7640,  -8.6522,\n",
      "         -23.5062,  12.5501,  -4.6515,   6.7774, -15.5999,   9.4920,  -7.5049,\n",
      "          -0.8293, -28.0576,  -8.8094,  -0.7745, -21.4732,  -9.6071, -13.9299,\n",
      "           1.7500,   9.9592, -24.8404,  -0.2629,   4.2579,   4.9336, -18.9476,\n",
      "         -16.1376,  -6.4943,   8.9362, -34.3952,   5.5351,  12.7276, -10.2178,\n",
      "         -15.8312]], device='cuda:0', grad_fn=<AddmmBackward0>)\n"
     ]
    }
   ],
   "source": [
    "# verificando respostas\n",
    "# Estes valores são chamados de 'score'.\n",
    "\n",
    "print(previsao)"
   ]
  },
  {
   "cell_type": "code",
   "execution_count": 24,
   "metadata": {
    "id": "aCkwve0Abm_i"
   },
   "outputs": [
    {
     "name": "stdout",
     "output_type": "stream",
     "text": [
      "tensor([[5.6762e-01, 4.3228e-01, 1.0347e-04, 6.1085e-14, 7.4089e-07, 9.1331e-12,\n",
      "         9.4889e-20, 2.6678e-11, 4.3943e-11, 1.2806e-14, 3.0979e-25, 1.2666e-15,\n",
      "         9.1571e-11, 2.2800e-21, 8.0705e-28, 3.6808e-12, 1.2457e-19, 1.1453e-14,\n",
      "         2.1906e-24, 1.7292e-13, 7.1808e-21, 5.6931e-18, 8.5166e-30, 1.9484e-21,\n",
      "         6.0138e-18, 6.1636e-27, 8.7742e-22, 1.1637e-23, 7.5081e-17, 2.7590e-13,\n",
      "         2.1256e-28, 1.0031e-17, 9.2195e-16, 1.8121e-15, 7.7038e-26, 1.2795e-24,\n",
      "         1.9728e-20, 9.9187e-14, 1.5062e-32, 3.3068e-15, 4.3961e-12, 4.7641e-22,\n",
      "         1.7383e-24]], device='cuda:0', grad_fn=<SoftmaxBackward0>)\n"
     ]
    }
   ],
   "source": [
    "# Aplicando softmax nos scores para gerar as probabilidades\n",
    "\n",
    "prob = F.softmax(previsao, dim=1)\n",
    "\n",
    "print(prob)"
   ]
  },
  {
   "cell_type": "code",
   "execution_count": 25,
   "metadata": {
    "id": "Dc9TSMmvbqIO"
   },
   "outputs": [
    {
     "name": "stdout",
     "output_type": "stream",
     "text": [
      "[[5.67618132e-01 4.32277650e-01 1.03472368e-04 6.10850549e-14\n",
      "  7.40887742e-07 9.13313175e-12 9.48887638e-20 2.66782846e-11\n",
      "  4.39431339e-11 1.28059786e-14 3.09791446e-25 1.26656170e-15\n",
      "  9.15705012e-11 2.28004965e-21 8.07053962e-28 3.68083298e-12\n",
      "  1.24568205e-19 1.14525250e-14 2.19060895e-24 1.72924256e-13\n",
      "  7.18079610e-21 5.69306850e-18 8.51657431e-30 1.94837082e-21\n",
      "  6.01376642e-18 6.16356516e-27 8.77419415e-22 1.16373494e-23\n",
      "  7.50813446e-17 2.75896629e-13 2.12562986e-28 1.00314021e-17\n",
      "  9.21946870e-16 1.81206627e-15 7.70384982e-26 1.27954639e-24\n",
      "  1.97280573e-20 9.91871515e-14 1.50615621e-32 3.30679926e-15\n",
      "  4.39607985e-12 4.76406303e-22 1.73827058e-24]]\n"
     ]
    }
   ],
   "source": [
    "# Selecionando apenas os resultados\n",
    "\n",
    "prob = prob.cpu().detach().numpy()\n",
    "\n",
    "print(prob)"
   ]
  },
  {
   "cell_type": "code",
   "execution_count": 26,
   "metadata": {
    "id": "SNrGcLu3b2Up"
   },
   "outputs": [
    {
     "name": "stdout",
     "output_type": "stream",
     "text": [
      "A classe predita é: 0\n",
      "\n",
      " Classe: Speed limit (20km/h)\n"
     ]
    }
   ],
   "source": [
    "# verificando o resultado\n",
    "\n",
    "resultado = np.argmax(prob)\n",
    "\n",
    "print(f'A classe predita é: {resultado}')\n",
    "\n",
    "classes = {\n",
    "    0: \"Speed limit (20km/h)\",\n",
    "    1: \"Speed limit (30km/h)\",\n",
    "    2: \"Speed limit (50km/h)\",\n",
    "    3: \"Speed limit (60km/h)\",\n",
    "    4: \"Speed limit (70km/h)\",\n",
    "    5: \"Speed limit (80km/h)\",\n",
    "    6: \"End of speed limit (80km/h)\",\n",
    "    7: \"Speed limit (100km/h)\",\n",
    "    8: \"Speed limit (120km/h)\",\n",
    "    9: \"No passing\",\n",
    "    10: \"No passing for vehicles over 3.5 metric tons\",\n",
    "    11: \"Right-of-way at the next intersection\",\n",
    "    12: \"Priority road\",\n",
    "    13: \"Yield\",\n",
    "    14: \"Stop\",\n",
    "    15: \"No vehicles\",\n",
    "    16: \"Vehicles over 3.5 metric tons prohibited\",\n",
    "    17: \"No entry\",\n",
    "    18: \"General caution\",\n",
    "    19: \"Dangerous curve to the left\",\n",
    "    20: \"Dangerous curve to the right\",\n",
    "    21: \"Double curve\",\n",
    "    22: \"Bumpy road\",\n",
    "    23: \"Slippery road\",\n",
    "    24: \"Road narrows on the right\",\n",
    "    25: \"Road work\",\n",
    "    26: \"Traffic signals\",\n",
    "    27: \"Pedestrians\",\n",
    "    28: \"Children crossing\",\n",
    "    29: \"Bicycles crossing\",\n",
    "    30: \"Beware of ice/snow\",\n",
    "    31: \"Wild animals crossing\",\n",
    "    32: \"End of all speed and passing limits\",\n",
    "    33: \"Turn right ahead\",\n",
    "    34: \"Turn left ahead\",\n",
    "    35: \"Ahead only\",\n",
    "    36: \"Go straight or right\",\n",
    "    37: \"Go straight or left\",\n",
    "    38: \"Keep right\",\n",
    "    39: \"Keep left\",\n",
    "    40: \"Roundabout mandatory\",\n",
    "    41: \"End of no passing\",\n",
    "    42: \"End of no passing by vehicles over 3.5 metric tons\"\n",
    "}\n",
    "\n",
    "\n",
    "print('\\n Classe: ' + classes[resultado])"
   ]
  },
  {
   "cell_type": "markdown",
   "metadata": {},
   "source": [
    "0 | Speed limit (20km/h)\n",
    "\n",
    "1 | Speed limit (30km/h)\n",
    "\n",
    "2 | Speed limit (50km/h)\n",
    "\n",
    "3 | Speed limit (60km/h)\n",
    "\n",
    "4 | Speed limit (70km/h)\n",
    "\n",
    "5 | Speed limit (80km/h)\n",
    "\n",
    "6 | End of speed limit (80km/h)\n",
    "\n",
    "7 | Speed limit (100km/h)\n",
    "\n",
    "8 | Speed limit (120km/h)\n",
    "\n",
    "9 | No passing\n",
    "\n",
    "10 | No passing for vehicles over 3.5 metric tons\n",
    "\n",
    "11 | Right-of-way at the next intersection\n",
    "\n",
    "12 | Priority road\n",
    "\n",
    "13 | Yield\n",
    "\n",
    "14 | Stop\n",
    "\n",
    "15 | No vehicles\n",
    "\n",
    "16 | Vehicles over 3.5 metric tons prohibited\n",
    "\n",
    "17 | No entry\n",
    "\n",
    "18 | General caution\n",
    "\n",
    "19 | Dangerous curve to the left\n",
    "\n",
    "20 | Dangerous curve to the right\n",
    "\n",
    "21 | Double curve\n",
    "\n",
    "22 | Bumpy road\n",
    "\n",
    "23 | Slippery road\n",
    "\n",
    "24 | Road narrows on the right\n",
    "\n",
    "25 | Road work\n",
    "\n",
    "26 | Traffic signals\n",
    "\n",
    "27 | Pedestrians\n",
    "\n",
    "28 | Children crossing\n",
    "\n",
    "29 | Bicycles crossing\n",
    "\n",
    "30 | Beware of ice/snow\n",
    "\n",
    "31 | Wild animals crossing\n",
    "\n",
    "32 | End of all speed and passing limits\n",
    "\n",
    "33 | Turn right ahead\n",
    "\n",
    "34 | Turn left ahead\n",
    "\n",
    "35 | Ahead only\n",
    "\n",
    "36 | Go straight or right\n",
    "\n",
    "37 | Go straight or left\n",
    "\n",
    "38 | Keep right\n",
    "\n",
    "39 | Keep left\n",
    "\n",
    "40 | Roundabout mandatory\n",
    "\n",
    "41 | End of no passing\n",
    "\n",
    "42 | End of no passing by vehicles over 3.5 metric ton"
   ]
  }
 ],
 "metadata": {
  "accelerator": "GPU",
  "colab": {
   "name": "",
   "version": ""
  },
  "kernelspec": {
   "display_name": "dali",
   "language": "python",
   "name": "python3"
  },
  "language_info": {
   "codemirror_mode": {
    "name": "ipython",
    "version": 3
   },
   "file_extension": ".py",
   "mimetype": "text/x-python",
   "name": "python",
   "nbconvert_exporter": "python",
   "pygments_lexer": "ipython3",
   "version": "3.10.11"
  }
 },
 "nbformat": 4,
 "nbformat_minor": 0
}
