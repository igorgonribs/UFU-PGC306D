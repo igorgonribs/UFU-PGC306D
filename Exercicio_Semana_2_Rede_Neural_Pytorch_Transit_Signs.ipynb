{
 "cells": [
  {
   "cell_type": "markdown",
   "metadata": {
    "id": "k475s1q5kZA4"
   },
   "source": [
    "##  <font style=\"color:black\">**Curso de Analytics de Imagens e Vídeos**</font>\n",
    "\n",
    "Aula 08 - Classificação de imagens usando RNAs"
   ]
  },
  {
   "cell_type": "markdown",
   "metadata": {
    "id": "hLzXisu_B43r"
   },
   "source": [
    "## **Exemplo prático**\n",
    "\n",
    "Criação e treinamento de rede neural com Pytorch"
   ]
  },
  {
   "cell_type": "code",
   "execution_count": null,
   "metadata": {
    "colab": {
     "base_uri": "https://localhost:8080/",
     "height": 35
    },
    "executionInfo": {
     "elapsed": 13676,
     "status": "ok",
     "timestamp": 1756331907871,
     "user": {
      "displayName": "Igor Gonçalves",
      "userId": "16259977477645896055"
     },
     "user_tz": 180
    },
    "id": "7XjRYFxcVp6V",
    "outputId": "e43c0e9c-76fb-4127-a966-fd5e1638a43d"
   },
   "outputs": [],
   "source": [
    "# Importação das bibliotecas\n",
    "\n",
    "import numpy as np\n",
    "import matplotlib.pyplot as plt\n",
    "\n",
    "import torch\n",
    "import torch.nn as nn\n",
    "from torch import optim\n",
    "import torch.nn.functional as F\n",
    "from torchvision import datasets\n",
    "import torchvision.transforms as transforms\n",
    "\n",
    "torch.__version__"
   ]
  },
  {
   "cell_type": "markdown",
   "metadata": {
    "id": "pvg8ko9YDUoG"
   },
   "source": [
    "### Funções auxiliares para a execução"
   ]
  },
  {
   "cell_type": "code",
   "execution_count": null,
   "metadata": {
    "executionInfo": {
     "elapsed": 28,
     "status": "ok",
     "timestamp": 1756331917385,
     "user": {
      "displayName": "Igor Gonçalves",
      "userId": "16259977477645896055"
     },
     "user_tz": 180
    },
    "id": "2d3P3-EUDX7C"
   },
   "outputs": [],
   "source": [
    "def imshow(image, ax=None, title=None, normalize=True):\n",
    "    \"\"\"Imshow for Tensor.\"\"\"\n",
    "    if ax is None:\n",
    "        fig, ax = plt.subplots()\n",
    "    image = image.numpy()\n",
    "\n",
    "    if normalize:\n",
    "        mean = np.array([0.5, 0.5, 0.5])\n",
    "        std = np.array([0.5, 0.5, 0.5])\n",
    "        image = std * image + mean\n",
    "        image = np.clip(image, 0, 1)\n",
    "\n",
    "    ax.imshow(image)\n",
    "    ax.spines['top'].set_visible(False)\n",
    "    ax.spines['right'].set_visible(False)\n",
    "    ax.spines['left'].set_visible(False)\n",
    "    ax.spines['bottom'].set_visible(False)\n",
    "    ax.tick_params(axis='both', length=0)\n",
    "    ax.set_xticklabels('')\n",
    "    ax.set_yticklabels('')\n",
    "\n",
    "    return ax"
   ]
  },
  {
   "cell_type": "markdown",
   "metadata": {
    "id": "S2QKe2hCVzNv"
   },
   "source": [
    "### Base de dados"
   ]
  },
  {
   "cell_type": "code",
   "execution_count": null,
   "metadata": {
    "executionInfo": {
     "elapsed": 31,
     "status": "ok",
     "timestamp": 1756331925353,
     "user": {
      "displayName": "Igor Gonçalves",
      "userId": "16259977477645896055"
     },
     "user_tz": 180
    },
    "id": "F1OqJDIkVv5k"
   },
   "outputs": [],
   "source": [
    "# Especificando o transformador das imagens para o formato específico do pytorch (média = 0.5 e desvio padrão 0.5)\n",
    "\n",
    "transform = transforms.Compose([transforms.ToTensor(),\n",
    "                                transforms.Normalize((0.5,), (0.5,))])"
   ]
  },
  {
   "cell_type": "code",
   "execution_count": null,
   "metadata": {
    "executionInfo": {
     "elapsed": 12220,
     "status": "ok",
     "timestamp": 1756331939700,
     "user": {
      "displayName": "Igor Gonçalves",
      "userId": "16259977477645896055"
     },
     "user_tz": 180
    },
    "id": "mRda8FOvBqrt"
   },
   "outputs": [],
   "source": [
    "# baixando base de dados de placas de transito\n",
    "import urllib.request\n",
    "import os.path\n",
    "if not os.path.exists(\"GTSRB_Final_Training_Images.zip\"):\n",
    "    url = (\"https://sid.erda.dk/public/archives/\"\n",
    "    + \"daaeac0d7ce1152aea9b61d9f1e19370/\"\n",
    "    + \"GTSRB_Final_Training_Images.zip\")\n",
    "    filename = \"./GTSRB_Final_Training_Images.zip\"\n",
    "    urllib.request.urlretrieve(url, filename)\n",
    "\n",
    "IMG_SIZE = 28\n",
    "TEST_SIZE = 0.2"
   ]
  },
  {
   "cell_type": "code",
   "execution_count": null,
   "metadata": {
    "executionInfo": {
     "elapsed": 26976,
     "status": "ok",
     "timestamp": 1756331978560,
     "user": {
      "displayName": "Igor Gonçalves",
      "userId": "16259977477645896055"
     },
     "user_tz": 180
    },
    "id": "XqUYMQ3SCPRY"
   },
   "outputs": [],
   "source": [
    "# lê o arquivo e separa os datasets de treinamento e teste\n",
    "import zipfile\n",
    "from skimage.transform import resize\n",
    "from imageio import imread\n",
    "from PIL import Image\n",
    "\n",
    "X, Xt, y, yt = list(), list(), list(), list()\n",
    "\n",
    "archive = zipfile.ZipFile(\n",
    "          'GTSRB_Final_Training_Images.zip', 'r')\n",
    "file_paths = [file for file in archive.namelist()\n",
    "              if '.ppm' in file]\n",
    "\n",
    "for filename in file_paths:\n",
    "    with archive.open(filename) as img_file:\n",
    "        img = Image.open(img_file).convert('L')\n",
    "    img = np.array(img, dtype=np.uint8)\n",
    "    img = resize(img,\n",
    "                 output_shape=(IMG_SIZE, IMG_SIZE),\n",
    "                 mode='reflect', anti_aliasing=True)\n",
    "\n",
    "    img = (img * 255).astype(np.uint8)\n",
    "    img_class = int(filename.split('/')[-2])\n",
    "\n",
    "    if (hash(filename) % 1000) / 1000 > TEST_SIZE:\n",
    "        X.append(img)\n",
    "        y.append(img_class)\n",
    "    else:\n",
    "        Xt.append(img)\n",
    "        yt.append(img_class)\n",
    "\n",
    "\n",
    "archive.close()"
   ]
  },
  {
   "cell_type": "code",
   "execution_count": null,
   "metadata": {
    "colab": {
     "background_save": true,
     "base_uri": "https://localhost:8080/",
     "height": 68,
     "output_embedded_package_id": "1Y-ec1H1TF7En59EMCfX7-HtA1G1Rd-0o"
    },
    "executionInfo": {
     "elapsed": 138,
     "status": "ok",
     "timestamp": 1756331986238,
     "user": {
      "displayName": "Igor Gonçalves",
      "userId": "16259977477645896055"
     },
     "user_tz": 180
    },
    "id": "e1j2rfjCiyIx",
    "outputId": "9c90b241-0d8d-46ff-a997-d2b354227a5f"
   },
   "outputs": [],
   "source": [
    "X[0]"
   ]
  },
  {
   "cell_type": "code",
   "execution_count": null,
   "metadata": {
    "id": "R2Z_mvJSD7j7"
   },
   "outputs": [],
   "source": [
    "from torch.utils.data import TensorDataset, DataLoader\n",
    "\n",
    "tensor_x_treino = torch.from_numpy(np.array(X, dtype=np.uint8)).to(torch.float32)\n",
    "tensor_x_teste = torch.from_numpy(np.array(Xt, dtype=np.uint8)).to(torch.float32)\n",
    "\n",
    "tensor_y_treino = torch.from_numpy(np.array(y, dtype=np.uint8)).to(torch.long)\n",
    "tensor_y_teste = torch.from_numpy(np.array(yt, dtype=np.uint8)).to(torch.long)\n",
    "\n",
    "dataset_treino = TensorDataset(tensor_x_treino,tensor_y_treino)\n",
    "dataset_teste = TensorDataset(tensor_x_teste,tensor_y_teste)\n",
    "\n",
    "trainloader = DataLoader(dataset_treino)\n",
    "testloader = DataLoader(dataset_teste)"
   ]
  },
  {
   "cell_type": "code",
   "execution_count": null,
   "metadata": {
    "colab": {
     "base_uri": "https://localhost:8080/",
     "height": 423
    },
    "executionInfo": {
     "elapsed": 181,
     "status": "ok",
     "timestamp": 1756329164861,
     "user": {
      "displayName": "Igor Gonçalves",
      "userId": "16259977477645896055"
     },
     "user_tz": 180
    },
    "id": "DobIfrBiWvq1",
    "outputId": "0081ca80-9cbd-4a05-e72e-1e37988503f8"
   },
   "outputs": [],
   "source": [
    "# Visualizando uma imagem percorrendo o dataloader\n",
    "# (1, 1, 28, 28)\n",
    "\n",
    "image, label = next(iter(trainloader))\n",
    "#imshow(image[0])\n",
    "print(image[0].dtype)"
   ]
  },
  {
   "cell_type": "markdown",
   "metadata": {
    "id": "ibJKWEXGJoTE"
   },
   "source": [
    "Label\t| Description\n",
    "\n",
    "0\t    | T-shirt/top | Camiseta/Blusa"
   ]
  },
  {
   "cell_type": "code",
   "execution_count": null,
   "metadata": {
    "id": "8bis7RYrXTOl"
   },
   "outputs": [],
   "source": []
  },
  {
   "cell_type": "markdown",
   "metadata": {
    "id": "dXl0ahiBX3US"
   },
   "source": [
    "### Criando uma rede neural"
   ]
  },
  {
   "cell_type": "code",
   "execution_count": null,
   "metadata": {
    "id": "Vle1LawTX5T6"
   },
   "outputs": [],
   "source": [
    "# Criação da classe queno formato especificado pelo pytorch\n",
    "# Classifier é o nome escolhido para a o objeto\n",
    "# dados de entrada (28x28 = 784)\n",
    "# RNA totalmente conectada\n",
    "# saída: 10 classes (camisas, sapatos, etc.)\n",
    "\n",
    "class Classifier(nn.Module):\n",
    "    def __init__(self):\n",
    "        super().__init__()\n",
    "\n",
    "        # Camadas lineares para as conexões\n",
    "        self.fc1 = nn.Linear(784, 256) # camada intermediaria 1\n",
    "        self.fc2 = nn.Linear(256, 128) # camada intermediaria 2\n",
    "        self.fc3 = nn.Linear(128, 64)  # camada intermediaria 3\n",
    "        self.fc4 = nn.Linear(64, 43)   # camada de saida\n",
    "\n",
    "\n",
    "    def forward(self, x):\n",
    "        # make sure input tensor is flattened\n",
    "        x = x.view(x.shape[0], -1)\n",
    "\n",
    "        x = F.relu(self.fc1(x)) # Aplciação da função relu apos o somatório linear\n",
    "        x = F.relu(self.fc2(x)) # Aplciação da função relu apos o somatório linear\n",
    "        x = F.relu(self.fc3(x)) # Aplciação da função relu apos o somatório linear\n",
    "\n",
    "        x = self.fc4(x)         # Não é necessário aplicação da função de ativação na última camada, pois iremos calcular as probabilidades com esta saída\n",
    "\n",
    "        return x"
   ]
  },
  {
   "cell_type": "code",
   "execution_count": null,
   "metadata": {
    "colab": {
     "base_uri": "https://localhost:8080/"
    },
    "executionInfo": {
     "elapsed": 18,
     "status": "ok",
     "timestamp": 1756328414885,
     "user": {
      "displayName": "Igor Gonçalves",
      "userId": "16259977477645896055"
     },
     "user_tz": 180
    },
    "id": "unSPs1FeZFiU",
    "outputId": "75c068a0-3288-4d06-fbca-08f35e794e16"
   },
   "outputs": [],
   "source": [
    "# Criando objeto da estrutura da rede\n",
    "\n",
    "net = Classifier()\n",
    "print(net)"
   ]
  },
  {
   "cell_type": "code",
   "execution_count": null,
   "metadata": {
    "colab": {
     "base_uri": "https://localhost:8080/"
    },
    "executionInfo": {
     "elapsed": 11,
     "status": "ok",
     "timestamp": 1756328414898,
     "user": {
      "displayName": "Igor Gonçalves",
      "userId": "16259977477645896055"
     },
     "user_tz": 180
    },
    "id": "u8z1wcGyVsv6",
    "outputId": "17fb8d0c-ca02-4e7f-f591-d17416c54e81"
   },
   "outputs": [],
   "source": [
    "# Onde estão os pesos da rede?\n",
    "# Os pesos estão entre [-1, 1]\n",
    "\n",
    "print(net.fc1.weight)\n",
    "print(' ')\n",
    "print(net.fc1.weight.shape)"
   ]
  },
  {
   "cell_type": "code",
   "execution_count": null,
   "metadata": {
    "id": "qlyyytrUZHBB"
   },
   "outputs": [],
   "source": [
    "# Definindo parâmetros importantes do treinamento\n",
    "#Função de custo e função de otimização dos parâmetros\n",
    "# Faz-se necessário passar os parâmetros da rede e a taxa de aprendizado (learning rate)\n",
    "\n",
    "criterion = nn.CrossEntropyLoss()\n",
    "optimizer = optim.SGD(net.parameters(), lr=0.01)"
   ]
  },
  {
   "cell_type": "markdown",
   "metadata": {
    "id": "d4PlwUfHZas0"
   },
   "source": [
    "### Etapa de treinamento"
   ]
  },
  {
   "cell_type": "code",
   "execution_count": null,
   "metadata": {
    "colab": {
     "base_uri": "https://localhost:8080/"
    },
    "executionInfo": {
     "elapsed": 444,
     "status": "ok",
     "timestamp": 1756328415351,
     "user": {
      "displayName": "Igor Gonçalves",
      "userId": "16259977477645896055"
     },
     "user_tz": 180
    },
    "id": "LBtXGdpIZcIj",
    "outputId": "8fdabb45-c582-4e65-ef15-aa07cbe980ec"
   },
   "outputs": [],
   "source": [
    "# verificando disponibilidade da gpu\n",
    "device = torch.device('cuda') if torch.cuda.is_available else torch.devide('cpu')\n",
    "device"
   ]
  },
  {
   "cell_type": "markdown",
   "metadata": {
    "id": "diaehJiVZl02"
   },
   "source": [
    "## Adiciona a rede para a GPU"
   ]
  },
  {
   "cell_type": "code",
   "execution_count": null,
   "metadata": {
    "colab": {
     "base_uri": "https://localhost:8080/"
    },
    "executionInfo": {
     "elapsed": 17,
     "status": "ok",
     "timestamp": 1756328415355,
     "user": {
      "displayName": "Igor Gonçalves",
      "userId": "16259977477645896055"
     },
     "user_tz": 180
    },
    "id": "uKWd6FNdZdbF",
    "outputId": "f31812ed-ae02-460b-d2c0-31eff7048155"
   },
   "outputs": [],
   "source": [
    "net.to(device)"
   ]
  },
  {
   "cell_type": "code",
   "execution_count": null,
   "metadata": {
    "id": "u-ISlKK4ZfNn"
   },
   "outputs": [],
   "source": [
    "# Função que define o fluxo de treinamento\n",
    "\n",
    "def training_loop(loader, epoch):\n",
    "    running_loss = 0.\n",
    "    running_accuracy = 0.\n",
    "\n",
    "    # loop interno para pegar os batches de imagens\n",
    "    for i, data in enumerate(loader):\n",
    "\n",
    "        # pega os dados de entrada e saida\n",
    "        inputs, labels = data\n",
    "\n",
    "        # inseri os dados na gpu\n",
    "        inputs, labels = inputs.to(device), labels.to(device)\n",
    "\n",
    "        # Zera o gradiente\n",
    "        optimizer.zero_grad()\n",
    "\n",
    "        # Passa as imagens na rede e o resultado é armazenado em outputs\n",
    "        outputs = net(inputs)\n",
    "\n",
    "        # Calcula o erro do batch\n",
    "        loss = criterion(outputs, labels)\n",
    "\n",
    "        # Realiza o backpropagation\n",
    "        loss.backward()\n",
    "\n",
    "        # Atualiza os pesos\n",
    "        optimizer.step()\n",
    "\n",
    "        # Agrupa o erro do batch\n",
    "        running_loss += loss.item()\n",
    "\n",
    "        # Calcula a probabilidade com a função softmax\n",
    "        ps = F.softmax(outputs)\n",
    "\n",
    "        # Identifica pelo indice a classe com maior probabilidade para comparar com os labels originais\n",
    "        top_p, top_class = ps.topk(k = 1, dim = 1)\n",
    "        equals = top_class == labels.view(*top_class.shape)\n",
    "\n",
    "        # equals se transforma em um vetor de zeros e ums, logo podemos calcular a acuarcia como abaixo\n",
    "        accuracy = torch.mean(equals.type(torch.float))\n",
    "\n",
    "        running_accuracy += accuracy\n",
    "\n",
    "\n",
    "        # Imprimindo os dados referentes a este batch\n",
    "        #print(f'\\rÉpoca {epoch+1:3d} - Batch {i+1:3d} de {len(loader):3d}: perda {loss:03.2f} - acurácia {accuracy:03.2f}')\n",
    "\n",
    "    # Imprimindo os dados referentes a esta época\n",
    "    print(f'\\rÉPOCA {epoch+1:3d} FINALIZADA: perda {running_loss/len(loader):.5f} - acurácia {running_accuracy/len(loader):.5f}')"
   ]
  },
  {
   "cell_type": "code",
   "execution_count": null,
   "metadata": {
    "colab": {
     "base_uri": "https://localhost:8080/",
     "height": 391
    },
    "executionInfo": {
     "elapsed": 40,
     "status": "error",
     "timestamp": 1756328415488,
     "user": {
      "displayName": "Igor Gonçalves",
      "userId": "16259977477645896055"
     },
     "user_tz": 180
    },
    "id": "Xl-rGXQdaUKz",
    "outputId": "77d64273-b2a0-4002-913c-29c3bb7f6f98"
   },
   "outputs": [],
   "source": [
    "for epoch in range(5):\n",
    "  print('Treinando...')\n",
    "  training_loop(trainloader, epoch)\n",
    "  net.eval()\n",
    "  print('Testando...')\n",
    "  training_loop(testloader, epoch)\n",
    "  net.train()"
   ]
  },
  {
   "cell_type": "markdown",
   "metadata": {
    "id": "X2FkKw-sa4vq"
   },
   "source": [
    "### Avaliação do Modelo"
   ]
  },
  {
   "cell_type": "code",
   "execution_count": null,
   "metadata": {
    "id": "Pn7xQI7za6j5"
   },
   "outputs": [],
   "source": [
    "# Percorrendo as imagens do loader de teste e pegando uma imagem unica\n",
    "\n",
    "imagem = next(iter(testloader))[0][0].view(28,28)\n",
    "plt.imshow(imagem, cmap='gray')"
   ]
  },
  {
   "cell_type": "code",
   "execution_count": null,
   "metadata": {
    "id": "Hvww7YGrbCF0"
   },
   "outputs": [],
   "source": [
    "imagem.shape"
   ]
  },
  {
   "cell_type": "code",
   "execution_count": null,
   "metadata": {
    "id": "yQjPSU7YbavX"
   },
   "outputs": [],
   "source": [
    "# Formatando imagem para o shape requerido pelo pytorch\n",
    "\n",
    "imagem = imagem.view(1, 1, 28, 28)\n",
    "imagem.shape"
   ]
  },
  {
   "cell_type": "code",
   "execution_count": null,
   "metadata": {
    "id": "AWDEaTBGbFGf"
   },
   "outputs": [],
   "source": [
    "# Colocando a rede no modo eval e passando para gpu\n",
    "\n",
    "net.eval()\n",
    "imagem = imagem.to(device)"
   ]
  },
  {
   "cell_type": "code",
   "execution_count": null,
   "metadata": {
    "id": "NQFlAYJCbMZH"
   },
   "outputs": [],
   "source": [
    "# Realizando previsão\n",
    "\n",
    "previsao = net.forward(imagem)"
   ]
  },
  {
   "cell_type": "code",
   "execution_count": null,
   "metadata": {
    "id": "GoJ3yuazbSvI"
   },
   "outputs": [],
   "source": [
    "# verificando respostas\n",
    "# Estes valores são chamados de 'score'.\n",
    "\n",
    "print(previsao)"
   ]
  },
  {
   "cell_type": "code",
   "execution_count": null,
   "metadata": {
    "id": "aCkwve0Abm_i"
   },
   "outputs": [],
   "source": [
    "# Aplicando softmax nos scores para gerar as probabilidades\n",
    "\n",
    "prob = F.softmax(previsao, dim=1)\n",
    "\n",
    "print(prob)"
   ]
  },
  {
   "cell_type": "code",
   "execution_count": null,
   "metadata": {
    "id": "Dc9TSMmvbqIO"
   },
   "outputs": [],
   "source": [
    "# Selecionando apenas os resultados\n",
    "\n",
    "prob = prob.cpu().detach().numpy()\n",
    "\n",
    "print(prob)"
   ]
  },
  {
   "cell_type": "code",
   "execution_count": null,
   "metadata": {
    "id": "SNrGcLu3b2Up"
   },
   "outputs": [],
   "source": [
    "# verificando o resultado\n",
    "\n",
    "resultado = np.argmax(prob)\n",
    "\n",
    "print(f'A classe predita é: {resultado}')\n",
    "\n",
    "classes = {\n",
    "    0: \"Speed limit (20km/h)\",\n",
    "    1: \"Speed limit (30km/h)\",\n",
    "    2: \"Speed limit (50km/h)\",\n",
    "    3: \"Speed limit (60km/h)\",\n",
    "    4: \"Speed limit (70km/h)\",\n",
    "    5: \"Speed limit (80km/h)\",\n",
    "    6: \"End of speed limit (80km/h)\",\n",
    "    7: \"Speed limit (100km/h)\",\n",
    "    8: \"Speed limit (120km/h)\",\n",
    "    9: \"No passing\",\n",
    "    10: \"No passing for vehicles over 3.5 metric tons\",\n",
    "    11: \"Right-of-way at the next intersection\",\n",
    "    12: \"Priority road\",\n",
    "    13: \"Yield\",\n",
    "    14: \"Stop\",\n",
    "    15: \"No vehicles\",\n",
    "    16: \"Vehicles over 3.5 metric tons prohibited\",\n",
    "    17: \"No entry\",\n",
    "    18: \"General caution\",\n",
    "    19: \"Dangerous curve to the left\",\n",
    "    20: \"Dangerous curve to the right\",\n",
    "    21: \"Double curve\",\n",
    "    22: \"Bumpy road\",\n",
    "    23: \"Slippery road\",\n",
    "    24: \"Road narrows on the right\",\n",
    "    25: \"Road work\",\n",
    "    26: \"Traffic signals\",\n",
    "    27: \"Pedestrians\",\n",
    "    28: \"Children crossing\",\n",
    "    29: \"Bicycles crossing\",\n",
    "    30: \"Beware of ice/snow\",\n",
    "    31: \"Wild animals crossing\",\n",
    "    32: \"End of all speed and passing limits\",\n",
    "    33: \"Turn right ahead\",\n",
    "    34: \"Turn left ahead\",\n",
    "    35: \"Ahead only\",\n",
    "    36: \"Go straight or right\",\n",
    "    37: \"Go straight or left\",\n",
    "    38: \"Keep right\",\n",
    "    39: \"Keep left\",\n",
    "    40: \"Roundabout mandatory\",\n",
    "    41: \"End of no passing\",\n",
    "    42: \"End of no passing by vehicles over 3.5 metric tons\"\n",
    "}\n",
    "\n",
    "\n",
    "print('\\n Classe: ' + classes[resultado])"
   ]
  },
  {
   "cell_type": "markdown",
   "metadata": {},
   "source": [
    "0 | Speed limit (20km/h)\n",
    "\n",
    "1 | Speed limit (30km/h)\n",
    "\n",
    "2 | Speed limit (50km/h)\n",
    "\n",
    "3 | Speed limit (60km/h)\n",
    "\n",
    "4 | Speed limit (70km/h)\n",
    "\n",
    "5 | Speed limit (80km/h)\n",
    "\n",
    "6 | End of speed limit (80km/h)\n",
    "\n",
    "7 | Speed limit (100km/h)\n",
    "\n",
    "8 | Speed limit (120km/h)\n",
    "\n",
    "9 | No passing\n",
    "\n",
    "10 | No passing for vehicles over 3.5 metric tons\n",
    "\n",
    "11 | Right-of-way at the next intersection\n",
    "\n",
    "12 | Priority road\n",
    "\n",
    "13 | Yield\n",
    "\n",
    "14 | Stop\n",
    "\n",
    "15 | No vehicles\n",
    "\n",
    "16 | Vehicles over 3.5 metric tons prohibited\n",
    "\n",
    "17 | No entry\n",
    "\n",
    "18 | General caution\n",
    "\n",
    "19 | Dangerous curve to the left\n",
    "\n",
    "20 | Dangerous curve to the right\n",
    "\n",
    "21 | Double curve\n",
    "\n",
    "22 | Bumpy road\n",
    "\n",
    "23 | Slippery road\n",
    "\n",
    "24 | Road narrows on the right\n",
    "\n",
    "25 | Road work\n",
    "\n",
    "26 | Traffic signals\n",
    "\n",
    "27 | Pedestrians\n",
    "\n",
    "28 | Children crossing\n",
    "\n",
    "29 | Bicycles crossing\n",
    "\n",
    "30 | Beware of ice/snow\n",
    "\n",
    "31 | Wild animals crossing\n",
    "\n",
    "32 | End of all speed and passing limits\n",
    "\n",
    "33 | Turn right ahead\n",
    "\n",
    "34 | Turn left ahead\n",
    "\n",
    "35 | Ahead only\n",
    "\n",
    "36 | Go straight or right\n",
    "\n",
    "37 | Go straight or left\n",
    "\n",
    "38 | Keep right\n",
    "\n",
    "39 | Keep left\n",
    "\n",
    "40 | Roundabout mandatory\n",
    "\n",
    "41 | End of no passing\n",
    "\n",
    "42 | End of no passing by vehicles over 3.5 metric ton"
   ]
  }
 ],
 "metadata": {
  "accelerator": "GPU",
  "colab": {
   "name": "",
   "version": ""
  },
  "kernelspec": {
   "display_name": "dali",
   "language": "python",
   "name": "python3"
  },
  "language_info": {
   "codemirror_mode": {
    "name": "ipython",
    "version": 3
   },
   "file_extension": ".py",
   "mimetype": "text/x-python",
   "name": "python",
   "nbconvert_exporter": "python",
   "pygments_lexer": "ipython3",
   "version": "3.10.11"
  }
 },
 "nbformat": 4,
 "nbformat_minor": 0
}
